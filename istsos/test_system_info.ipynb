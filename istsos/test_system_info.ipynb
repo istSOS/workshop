{
 "cells": [
  {
   "cell_type": "code",
   "execution_count": null,
   "metadata": {},
   "outputs": [],
   "source": [
    "!pip install psutil"
   ]
  },
  {
   "cell_type": "code",
   "execution_count": null,
   "metadata": {},
   "outputs": [],
   "source": [
    "import requests\n",
    "import json\n",
    "from datetime import datetime, timezone\n",
    "import psutil\n",
    "import platform\n",
    "from time import sleep"
   ]
  },
  {
   "cell_type": "code",
   "execution_count": null,
   "metadata": {},
   "outputs": [],
   "source": [
    "# SET VARIABLES\n",
    "istsos_url = 'http://istsos.org/istsos'\n",
    "istsos_service = 'maxdemo'\n",
    "procedure_name = 'LAPTOP'"
   ]
  },
  {
   "cell_type": "code",
   "execution_count": null,
   "metadata": {},
   "outputs": [],
   "source": [
    "uname = platform.uname()\n",
    "print(f\"System:           {uname.system}\")\n",
    "print(f\"Node Name:        {uname.node}\")\n",
    "print(f\"Version:          {uname.version}\")\n",
    "print(f\"Processor:        {uname.processor}\")\n",
    "print(f\"Total CPU Usage:  {psutil.cpu_percent()}%\")\n",
    "print(f\"Percentage memory:{psutil.virtual_memory().percent}%\")\n",
    "print(f\"Python version:   {platform.python_version()}\")"
   ]
  },
  {
   "cell_type": "code",
   "execution_count": null,
   "metadata": {},
   "outputs": [],
   "source": [
    "procedure_dict = {\n",
    "    'system_id': procedure_name,\n",
    "    'system': procedure_name,\n",
    "    'description': 'Laptop cpu and memory monitoring',\n",
    "    'keywords': 'cpu,sensor,load,memory',\n",
    "    'identification': [\n",
    "        {\n",
    "            'name': 'uniqueID',\n",
    "            'definition': 'urn:ogc:def:identifier:OGC:uniqueID',\n",
    "            'value': \"urn:ogc:def:procedure:x-istsos:1.0:{}\".format(procedure_name)\n",
    "        }\n",
    "    ],\n",
    "    'classification': [\n",
    "        {\n",
    "            'name': 'System Type',\n",
    "            'definition': 'urn:ogc:def:classifier:x-istsos:1.0:systemType',\n",
    "            'value': 'insitu-fixed-point'\n",
    "        },\n",
    "        {\n",
    "            'name': 'Sensor Type',\n",
    "            'definition': 'urn:ogc:def:classifier:x-istsos:1.0:sensorType',\n",
    "            'value': 'laptop'\n",
    "        }\n",
    "    ],\n",
    "    'characteristics': '',\n",
    "    'contacts': [],\n",
    "    'documentation': [],\n",
    "    'capabilities': [],\n",
    "    'location': {\n",
    "        'type': 'Feature',\n",
    "        'geometry': {\n",
    "            'type': 'Point',\n",
    "            'coordinates': ['8', '45', '200']\n",
    "        },\n",
    "        'crs': {\n",
    "            'type': 'name',\n",
    "            'properties': {'name': '4326'}\n",
    "        },\n",
    "        'properties': {\n",
    "            'name': 'TREVANO'\n",
    "        }\n",
    "    },\n",
    "    'interfaces': '',\n",
    "    'inputs': [],\n",
    "    'outputs': [\n",
    "        {\n",
    "            'name': 'Time',\n",
    "            'definition': 'urn:ogc:def:parameter:x-istsos:1.0:time:iso8601',\n",
    "            'uom': 'iso8601', 'description': ''\n",
    "        },\n",
    "        {\n",
    "            'name': 'cpu-load',\n",
    "            'definition': 'urn:ogc:def:parameter:x-istsos:1.0:pc:cpu:load',\n",
    "            'uom': '%',\n",
    "            'description': 'Instant load of the CPU'\n",
    "        }, {\n",
    "            'name': 'cpu-temperature',\n",
    "            'definition': 'urn:ogc:def:parameter:x-istsos:1.0:pc:memory:load',\n",
    "            'uom': '%',\n",
    "            'description': 'Instant load of the memory'\n",
    "        }\n",
    "    ],\n",
    "    'history': [],\n",
    "    'mqtt': None\n",
    "}"
   ]
  },
  {
   "cell_type": "code",
   "execution_count": null,
   "metadata": {},
   "outputs": [],
   "source": [
    "req = requests.post(\n",
    "    f'{istsos_url}/wa/istsos/services/{istsos_service}/procedures',\n",
    "    data=json.dumps(procedure_dict)\n",
    ")\n",
    "if req.json()['success']:\n",
    "    print('SUCCESS SENSOR REGISTERD!!!')\n",
    "else:\n",
    "    print('ERROR SENSOR NOT REGISTERED')"
   ]
  },
  {
   "cell_type": "code",
   "execution_count": null,
   "metadata": {},
   "outputs": [],
   "source": [
    "assigned_id = '75493eb45f1211eaaf0608002747b72e'"
   ]
  },
  {
   "cell_type": "code",
   "execution_count": null,
   "metadata": {},
   "outputs": [],
   "source": [
    "count = 120\n",
    "for _ in range(count):\n",
    "    data_post = '{};{},{}'.format(\n",
    "        assigned_id,\n",
    "        datetime.now(timezone.utc).isoformat(),\n",
    "        '{},{}'.format(\n",
    "            psutil.cpu_percent(),\n",
    "            psutil.virtual_memory().percent\n",
    "        )\n",
    "    )\n",
    "    print(data_post)\n",
    "    req = requests.post(\n",
    "        '{}/wa/istsos/services/{}/operations/fastinsert'.format(\n",
    "            istsos_url,\n",
    "            istsos_service,\n",
    "        ),\n",
    "        data=data_post\n",
    "    )\n",
    "    if 'true' in req.text:\n",
    "        print('SUCCESS DATA SENT!!!')\n",
    "    else:\n",
    "        print('ERROR DATA NOT SENT')\n",
    "    sleep(3.0)"
   ]
  }
 ],
 "metadata": {
  "kernelspec": {
   "display_name": "Python 3",
   "language": "python",
   "name": "python3"
  },
  "language_info": {
   "codemirror_mode": {
    "name": "ipython",
    "version": 3
   },
   "file_extension": ".py",
   "mimetype": "text/x-python",
   "name": "python",
   "nbconvert_exporter": "python",
   "pygments_lexer": "ipython3",
   "version": "3.8.5-final"
  }
 },
 "nbformat": 4,
 "nbformat_minor": 4
}