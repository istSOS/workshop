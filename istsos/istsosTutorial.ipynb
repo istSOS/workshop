{
 "cells": [
  {
   "cell_type": "markdown",
   "metadata": {},
   "source": [
    "# Using IPython Notebook:\n",
    "**!!! RUN THE BOEXES BY SELECTING IT and press: CRTL+ENTER or the button ► !!!** <br>\n",
    "This will cause the code in the box to be executed.\n"
   ]
  },
  {
   "cell_type": "code",
   "execution_count": 3,
   "metadata": {},
   "outputs": [
    {
     "output_type": "stream",
     "name": "stdout",
     "text": [
      "CIAO\n"
     ]
    }
   ],
   "source": [
    "from IPython.display import Markdown, display\n",
    "import os\n",
    "import sys\n",
    "print('CIAO')"
   ]
  },
  {
   "cell_type": "markdown",
   "metadata": {},
   "source": [
    "## Install istSOS on your Debian machine"
   ]
  },
  {
   "cell_type": "markdown",
   "metadata": {},
   "source": [
    "**Execute in a shell the following commands to install istSOS:**\n",
    "\n",
    "wget https://sourceforge.net/projects/istsos/files/python3-istsos_2.4.0-RC2.deb\n",
    "\n",
    "sudo dpkg -i python3-istsos_2.4.0-RC2.deb;sudo apt-get -f -y install\n",
    "\n",
    "sudo apt-get install postgresql-10 postgresql-10-postgis-2.4\n",
    "\n",
    "sudo -u postgres psql -c \"alter user postgres password 'postgres';\"\n",
    "\n",
    "sudo -u postgres psql -d istsos -c 'CREATE EXTENSION postgis'\n"
   ]
  },
  {
   "cell_type": "markdown",
   "metadata": {},
   "source": [
    "## Set your server url and your initial in the variables below\n",
    "In this workshop use your **initial** + **demo**. (e.g.: MCdemo)<br>\n",
    "Note the 'xx' to contain strings in python<br>\n",
    "**!!! DON'T USE SPACES OR SPECIAL CHARACTERS !!!**"
   ]
  },
  {
   "cell_type": "code",
   "execution_count": 4,
   "metadata": {},
   "outputs": [
    {
     "output_type": "stream",
     "name": "stdout",
     "text": [
      "YOUR INSTANCE NAME IS:  maxdemo\n\nYOUR SERVICE URL IS:  http://istsos.org/istsos/maxdemo\n"
     ]
    }
   ],
   "source": [
    "#======= CONFIGURE HERE ======================\n",
    "sos_server = 'http://istsos.org/istsos/'\n",
    "initials= 'max'\n",
    "#======== STOP CONFIGURE ======================\n",
    "\n",
    "\n",
    "sos_instance = initials + \"demo\"\n",
    "sos_url = sos_server + sos_instance\n",
    "\n",
    "print(\"YOUR INSTANCE NAME IS: \", sos_instance)\n",
    "print()\n",
    "print(\"YOUR SERVICE URL IS: \", sos_url)"
   ]
  },
  {
   "cell_type": "markdown",
   "metadata": {},
   "source": [
    "# istSOS introduction"
   ]
  },
  {
   "cell_type": "markdown",
   "metadata": {},
   "source": [
    "## 1. Access to the istSOS online portal\n",
    "Access to istSOS portal is generally protected by username and password <br>\n",
    "for this tutorial, we'll use a fully open service <br>\n",
    "To access the Web Administration Interface select the foowing link (SERVICE + admin)\n",
    "\n"
   ]
  },
  {
   "cell_type": "code",
   "execution_count": 5,
   "metadata": {},
   "outputs": [
    {
     "output_type": "display_data",
     "data": {
      "text/plain": "<IPython.core.display.Markdown object>",
      "text/markdown": " http://istsos.org/istsos/admin/"
     },
     "metadata": {}
    }
   ],
   "source": [
    "display(Markdown(\" \" + sos_server + 'admin/'))"
   ]
  },
  {
   "cell_type": "markdown",
   "metadata": {},
   "source": [
    "You'll land to the istSOS portal where you have listed the available istSOS services: <br>\n",
    "we'll use the instance named \"demo\" <br>\n",
    "\n",
    "⚒ Explore the buttons <br>"
   ]
  },
  {
   "cell_type": "markdown",
   "metadata": {},
   "source": [
    "## 2. Create a new service instance\n",
    "Now that you have configured istSOS, it’s time to create a new service instance. <br>\n",
    "\n",
    "---\n",
    "⚒ push the **New service** icon <br>\n",
    "Use the name of your \"YOUR INSTANCE NAME\" instance generated at veraible setup. <br>\n",
    "\n",
    "→Here may want to change the default EPSG (and eventually the database configuration)  <br>\n",
    "→For this istSOS instance you prefer to use the defaults ones. \n",
    "\n",
    "---\n",
    "\n",
    "⚒  Press “next”. <br> \n",
    "As you pressed the “next” button, the server status panel is displayed.<br>\n",
    "→If something's gone wrong during the creation you will see here an alert.\n",
    "\n",
    "---\n",
    "\n",
    "⚒  Check if the new service exists asking for a **GetCapabilities** <br>\n",
    "Now the istSOS **demo** instance is up and running.<br>\n",
    "→Let’s try to execute a getCapabilities request. <br>\n",
    "\n"
   ]
  },
  {
   "cell_type": "code",
   "execution_count": 6,
   "metadata": {},
   "outputs": [
    {
     "output_type": "display_data",
     "data": {
      "text/plain": "<IPython.core.display.Markdown object>",
      "text/markdown": " http://istsos.org/istsos/maxdemo?request=getCapabilities&service=SOS"
     },
     "metadata": {}
    }
   ],
   "source": [
    "display(Markdown(\" \" + sos_url + \"?request=getCapabilities&service=SOS\"))"
   ]
  },
  {
   "cell_type": "markdown",
   "metadata": {},
   "source": [
    "## 3. Access to the istSOS online portal\n",
    "\n",
    "⚒ Set your service provider and identification metadata <br>\n",
    "⚒ Test your database conncection <br>\n",
    "⚒ Check the quality indexes (optionally adjust them to your needs) <br>\n",
    "⚒ Adjust your Proxy address (this is the address used internally by the application, not the public url) <br>\n"
   ]
  },
  {
   "cell_type": "code",
   "execution_count": 7,
   "metadata": {},
   "outputs": [
    {
     "output_type": "stream",
     "name": "stdout",
     "text": [
      "YOUR PROXY URL IS:  http://istsos.org/istsos/maxdemo\n"
     ]
    }
   ],
   "source": [
    "print(\"YOUR PROXY URL IS: \", sos_url)"
   ]
  },
  {
   "cell_type": "markdown",
   "metadata": {},
   "source": [
    "## 4. Registering new sensors \n",
    "From the “services” drop down button choose **\"YOUR INSTANCE NAME\"** instance.\n",
    "\n",
    "**ATTENTION:**\n",
    "- Once a procedure is created the outputs (observed properties) cannot be changed. \n",
    "- Before registering new sensors it’s advised to initialize missing observed properties and unit of measures\n",
    "- Is it possible to add new procedures observing more than one properties, but in istSOS this means that for each observation instant we have a list all the observed properties values.\n",
    "\n",
    "---\n",
    "\n",
    "⚒ Add procedures **W_MAGGIA** with the following metadata:\n",
    "- **Name**: W_MAGGIA\n",
    "- **Description**: Water table height monitoring, Ticino. \n",
    "- **Keywords**: hydrogeology, groundwater, \n",
    "- **System type**: insitu-fixed-point \n",
    "- **Sensor type**: Pietzometer \n",
    "- **FOI name**: MAGGIA \n",
    "- **EPSG**: 21781 \n",
    "- **Coordinates**: x: 691345 y: 128105 z: 388 \n",
    "- **Outputs**: \n",
    "  - **Observed property**: urn:ogc:def:parameter:x-istsos:1.0:ground:water:height\n",
    "  - **Unit of measure**: m\n",
    "  - **Description**: water table level in m.a.s.l\n",
    "\n",
    "Register the new sensor (procedure) pressing the \"submit\" button\n",
    "\n",
    "---\n",
    "\n",
    "⚒  Verify the inserted procedures using the administration interface<br>\n",
    "→Check your procedures by accessing the *Procedures* panel. <br>\n",
    "→You will see a table showing an abstract of all the inserted procedures.<br>\n",
    "→By clicking on the name you will be able to enter the details metadata that you configured during the procedure registration.<br>\n",
    "\n",
    "**NOTE:** <br>\n",
    "→The *Procedures* panel not only allows for procedures and metadata exploration but also allows details modification.<br> \n",
    "→The only exception are the outputs parameters.<br>\n",
    "\n",
    "---\n",
    "\n",
    "⚒ Verify the inserted procedures using the Sensor Observation Service with a getCapabilities request\n",
    " "
   ]
  },
  {
   "cell_type": "code",
   "execution_count": null,
   "metadata": {},
   "outputs": [],
   "source": [
    "display(Markdown(\n",
    "    \" \" + sos_url + \"?request=getCapabilities&section=contents&service=SOS\"))"
   ]
  },
  {
   "cell_type": "markdown",
   "metadata": {},
   "source": [
    "Let’s execute a describeSensor request to verify that the procedure description is available: "
   ]
  },
  {
   "cell_type": "code",
   "execution_count": null,
   "metadata": {},
   "outputs": [],
   "source": [
    "display(Markdown(\n",
    "    \" \" + sos_url + \"?\" +\n",
    "    \"request=DescribeSensor&\" + \n",
    "    \"procedure=W_MAGGIA&\" + \n",
    "    \"outputFormat=text%2Fxml%3Bsubtype%3D%22sensorML%2F1.0.1%22&\" +\n",
    "    \"service=SOS&version=1.0.0\"))"
   ]
  },
  {
   "cell_type": "markdown",
   "metadata": {},
   "source": [
    "**NOTE:** Procedures are stored in the SOS with a uniqueID which is urn:ogc:def:procedure:x-istsos:1.0:XXXX for procedure named XXXX. <br> \n",
    "istSOS, as we can see later for other parameters also, is not strict and allows to specify just the procedure name in the request"
   ]
  },
  {
   "cell_type": "markdown",
   "metadata": {},
   "source": [
    "## 5. Insert observations\n",
    "\n",
    "in this part we're using a library named OAT which has been implemented within the <br>\n",
    "**H2020 FREEWAT (http://freewat.eu) project**\n",
    "\n",
    "⚒ Import OAT libraries"
   ]
  },
  {
   "cell_type": "code",
   "execution_count": null,
   "metadata": {},
   "outputs": [],
   "source": [
    "from oatlib import sensor, oat_utils"
   ]
  },
  {
   "cell_type": "markdown",
   "metadata": {},
   "source": [
    "⚒ Create an OAT-Sensor object by getting metadata from istSOS"
   ]
  },
  {
   "cell_type": "code",
   "execution_count": null,
   "metadata": {},
   "outputs": [],
   "source": [
    "observed_property_name = \"urn:ogc:def:parameter:x-istsos:1.0:ground:water:height\"\n",
    "observed_property_uom = \"m\"\n",
    "basic_auth = None\n",
    "procedure_name = \"W_MAGGIA\"\n",
    "\n",
    "SENSOR = sensor.Sensor.from_istsos(\n",
    "    sos_url, procedure_name, observed_property_name, basic_auth, srid=21781)\n",
    "\n",
    "print(SENSOR)"
   ]
  },
  {
   "cell_type": "markdown",
   "metadata": {},
   "source": [
    "⚒ Load data from a CSV to the OAT-Sensor object"
   ]
  },
  {
   "cell_type": "code",
   "execution_count": null,
   "metadata": {},
   "outputs": [],
   "source": [
    "SENSOR.ts_from_csv(\n",
    "    'W_MAGGIA_min.csv',\n",
    "    sep=',',\n",
    "    skiprows=1\n",
    ")"
   ]
  },
  {
   "cell_type": "markdown",
   "metadata": {},
   "source": [
    "⚒ Let's see the OAT-Sensor object summary information"
   ]
  },
  {
   "cell_type": "code",
   "execution_count": null,
   "metadata": {},
   "outputs": [],
   "source": [
    "print(SENSOR)"
   ]
  },
  {
   "cell_type": "markdown",
   "metadata": {},
   "source": [
    "⚒ Upload OAT-Sensor data to istSOS procedure W_MAGGIA"
   ]
  },
  {
   "cell_type": "code",
   "execution_count": null,
   "metadata": {},
   "outputs": [],
   "source": [
    "oat_utils.sensors_to_istsos(\n",
    "    service=sos_url,\n",
    "    procedure=procedure_name,\n",
    "    obspro_sensor={'urn:ogc:def:parameter:x-istsos:1.0:ground:water:height': SENSOR},\n",
    "    how_merge='left'\n",
    ")"
   ]
  },
  {
   "cell_type": "markdown",
   "metadata": {},
   "source": [
    "### ⚒ Let's go and check the data in istSOS using the *DataManagement* interface and plot data of the last 2 years."
   ]
  }
 ],
 "metadata": {
  "kernelspec": {
   "display_name": "Python 3",
   "language": "python",
   "name": "python3"
  },
  "language_info": {
   "codemirror_mode": {
    "name": "ipython",
    "version": 3
   },
   "file_extension": ".py",
   "mimetype": "text/x-python",
   "name": "python",
   "nbconvert_exporter": "python",
   "pygments_lexer": "ipython3",
   "version": "3.8.5-final"
  }
 },
 "nbformat": 4,
 "nbformat_minor": 4
}