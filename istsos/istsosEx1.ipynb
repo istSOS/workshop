{
 "cells": [
  {
   "cell_type": "markdown",
   "metadata": {},
   "source": [
    "## ASSIGNMENT\n",
    "---\n",
    "## Create a new procedure and upload data from a csv file \n",
    "\n",
    "(HINTS: __[take inspiration from the familiarization tutorial](istsos/istsosTutorial.ipynb)__)\n",
    "\n",
    "⚒ Add procedures **T_TRE** with the following metadata:\n",
    "- **Name**: T_TRE\n",
    "- **Description**: temperature weather station in Lugano, Ticino. \n",
    "- **Keywords**: weather,meteorological,IST \n",
    "- **System type**: insitu-fixed-point \n",
    "- **Sensor type**: PTC thermistors of the \"switching\" type\n",
    "- **FOI name**: LUGANO \n",
    "- **EPSG**: 4326 \n",
    "- **Coordinates**: x: 8.96127 y: 46.02723 z: 344.1\n",
    "- **Outputs**: \n",
    "  - **Observed property**: urn:ogc:def:parameter:x-istsos:1.0:meteo:air:temperature\n",
    "  - **Unit of measure**: °C\n",
    "  - **Description**: -\n",
    "\n",
    "⚒ Add data store in file T_TRE.csv "
   ]
  },
  {
   "cell_type": "code",
   "execution_count": null,
   "metadata": {},
   "outputs": [],
   "source": [
    "from oatlib import sensor, oat_utils\n",
    "\n",
    "sos_url = 'http://istsos.org/istsos/demo'\n",
    "observed_property_name = \"urn:ogc:def:parameter:x-istsos:1.0:meteo:air:temperature\"\n",
    "observed_property_uom = \"°C\"\n",
    "basic_auth = None\n",
    "procedure_name = \"T_TRE\"\n",
    "\n"
   ]
  },
  {
   "cell_type": "code",
   "execution_count": null,
   "metadata": {},
   "outputs": [],
   "source": [
    "SENSOR = sensor.Sensor.from_istsos(\n",
    "    sos_url, procedure_name, observed_property_name, basic_auth, srid=21781)\n",
    "\n",
    "print(SENSOR)"
   ]
  },
  {
   "cell_type": "code",
   "execution_count": null,
   "metadata": {},
   "outputs": [],
   "source": [
    "SENSOR.ts_from_csv(\n",
    "    'T_TRE.csv',\n",
    "    sep=',',\n",
    "    skiprows=1\n",
    ")\n",
    "print(SENSOR)"
   ]
  },
  {
   "cell_type": "code",
   "execution_count": null,
   "metadata": {},
   "outputs": [],
   "source": [
    "oat_utils.sensors_to_istsos(\n",
    "    service=sos_url,\n",
    "    procedure=procedure_name,\n",
    "    obspro_sensor={'urn:ogc:def:parameter:x-istsos:1.0:meteo:air:temperature': SENSOR},\n",
    "    how_merge='left'\n",
    ")"
   ]
  },
  {
   "cell_type": "code",
   "execution_count": null,
   "metadata": {},
   "outputs": [],
   "source": []
  }
 ],
 "metadata": {
  "kernelspec": {
   "display_name": "Python 3",
   "language": "python",
   "name": "python3"
  },
  "language_info": {
   "codemirror_mode": {
    "name": "ipython",
    "version": 3
   },
   "file_extension": ".py",
   "mimetype": "text/x-python",
   "name": "python",
   "nbconvert_exporter": "python",
   "pygments_lexer": "ipython3",
   "version": "3.8.5"
  }
 },
 "nbformat": 4,
 "nbformat_minor": 4
}
