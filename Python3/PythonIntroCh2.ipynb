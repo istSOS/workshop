{
 "cells": [
  {
   "cell_type": "markdown",
   "metadata": {},
   "source": [
    "# 2. Programs in a file, and variables\n",
    "## 2.1 Introduction\n",
    "Well, we can make one-liner programs. So What? You want to send programs to other people, so that they can use them, without knowing how to write them.\n",
    "## 2.2 Writing scripts\n",
    "Writing programs in Python to a file is VERY easy. Python programs are simply text documents - you can open them up in notepad, and have a look at them, just like that.\n",
    "In practice, however, you will use a so called __[Integrated Development Environment (IDE)](https://en.wikipedia.org/wiki/Integrated_development_environment)__ to develop your scripts.<br>\n",
    "In this tutorial we'll use the Jupyter Notebook interactive fields as an IDE. After the tutorial we'll use __[Spyder](https://pythonhosted.org/spyder/)__ that comes with the __[Anaconda](https://www.anaconda.com/download/)__ Python distribution.<br>\n",
    "Have a look at the program (`mary.py`) below:"
   ]
  },
  {
   "cell_type": "code",
   "execution_count": null,
   "metadata": {},
   "outputs": [],
   "source": [
    "#A simple program.\n",
    "print(\"Mary had a little lamb\")\n",
    "print(\"it's fleece was white as snow;\")\n",
    "print(\"and everywhere that Mary went\", end = \" \")\n",
    "print(\"her lamb was sure to go.\")"
   ]
  },
  {
   "cell_type": "markdown",
   "metadata": {},
   "source": [
    "If you run the script (`<shift> + <Return>`) it will execute lines 1 to 5 after each other. In an IDE there's always a screen where you can type the code with syntax highlighting (like here), a window where you can see the output and a button to run the script. The scripts are saved as `.py` files. These can be run from your command line - Open the terminal window, go to the folder and then type `Python mary.py`. Your program will now execute in the command line.<br>\n",
    "In line 4 `end = \" \"` inserts a space instead of a new line at the end of the `print` operator."
   ]
  },
  {
   "cell_type": "markdown",
   "metadata": {},
   "source": [
    "## 2.3 Variables\n",
    "Now let's start introducing variables. Variables store a value, that can be looked at or changed at a later time. Let's make a program that uses variables:"
   ]
  },
  {
   "cell_type": "code",
   "execution_count": null,
   "metadata": {},
   "outputs": [],
   "source": [
    "#variables demonstrated\n",
    "print(\"This program is a demo of variables\")\n",
    "v = 1\n",
    "print(\"The value of v is now\", v)\n",
    "v = v + 1\n",
    "print(\"v now equals itself plus one, making it worth\", v)\n",
    "v = 51\n",
    "print(\"v can store any numerical value, to be used elsewhere.\")\n",
    "print(\"for example, in a sentence. v is now worth\", v)\n",
    "print(\"v times 5 equals\", v*5)\n",
    "print(\"but v still only remains\", v)\n",
    "print(\"to make v five times bigger, you would have to type v = v * 5\")\n",
    "v = v * 5\n",
    "print(\"there you go, now v equals\", v, \"and not\", v / 5)"
   ]
  },
  {
   "cell_type": "markdown",
   "metadata": {},
   "source": [
    "Run the script and try to understand the results."
   ]
  },
  {
   "cell_type": "markdown",
   "metadata": {},
   "source": [
    "## 2.5 Strings\n",
    "As you can see, variables store values, for use at a later time. You can change them at any time. You can put in more than numbers, though. Variables can hold things like text. A variable that holds text is called a string. Try this program:"
   ]
  },
  {
   "cell_type": "code",
   "execution_count": null,
   "metadata": {},
   "outputs": [],
   "source": [
    "#giving variables text, and adding text.\n",
    "word1 = \"Good\"\n",
    "word2 = \"morning\"\n",
    "word3 = \"to you too!\"\n",
    "print(word1, word2)\n",
    "sentence = word1 + \" \" + word2 + \" \" +word3\n",
    "print(sentence)"
   ]
  },
  {
   "cell_type": "markdown",
   "metadata": {},
   "source": [
    "As you see, the variables above were holding text. Variable names can also be longer than one letter - here, we had word1, word2, and word3. As you can also see, strings can be added together to make longer words or sentences. However, it doesn't add spaces in between the words - hence me putting in the \" \" things (there is one space between those)."
   ]
  },
  {
   "cell_type": "markdown",
   "metadata": {},
   "source": [
    "## 2.6 Conclusion\n",
    "Well done! We now understand longer programs, and know the use of variables. Next lesson, we look at loops, what they are, and how to use them.<br>\n",
    "__[Home](PythonIntro.ipynb)__<br>\n",
    "__[Lesson 3: Loops, Loops, Loops, Loops...](PythonIntroCh3.ipynb)__"
   ]
  }
 ],
 "metadata": {
  "kernelspec": {
   "display_name": "Python 3",
   "language": "python",
   "name": "python3"
  },
  "language_info": {
   "codemirror_mode": {
    "name": "ipython",
    "version": 3
   },
   "file_extension": ".py",
   "mimetype": "text/x-python",
   "name": "python",
   "nbconvert_exporter": "python",
   "pygments_lexer": "ipython3",
   "version": "3.6.5"
  }
 },
 "nbformat": 4,
 "nbformat_minor": 2
}
