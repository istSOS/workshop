{
 "cells": [
  {
   "cell_type": "code",
   "execution_count": null,
   "metadata": {},
   "outputs": [],
   "source": [
    "import sys\n",
    "from datetime import datetime, timezone\n",
    "import json\n",
    "import json\n",
    "import serial\n",
    "import requests"
   ]
  },
  {
   "cell_type": "markdown",
   "metadata": {},
   "source": [
    "### ⚒  How to collect data (connect sensor with arduino)\n",
    "\n",
    "Hereinafter we are going to set up a very simple system to monitor the temperature and the humidity by using **Arduino** and the **DHT11**.\n",
    "\n",
    "* [Arduino Nano](https://store.arduino.cc/arduino-nano)\n",
    "* [DHT11](https://components101.com/dht11-temperature-sensor)\n",
    "\n",
    "1. Connecting the **DHT11** to the **Arduino Nano**\n",
    "\n",
    "| **DHT11**             |  __  | **Arduino** |\n",
    "| --------------------- | ---- | ----------- |\n",
    "| **GND** or **-**      | <--> | **GND**     |\n",
    "| **VCC** or **+**      | <--> | **5V**      |\n",
    "| **Data**              | <--> | **D2**      |\n",
    "\n",
    "### ⚒  Connect the **Arduino Nano** with the **Computer**\n",
    "\n",
    "**In Linux OS**:<br>\n",
    "Run the following command in a bash shell to get the port name and to set reading priviledges<br>\n",
    "\n",
    "$ dmesg | tail\n",
    "\n",
    "$ sudo chmod 666 /dev/ttyACM0\n",
    "\n",
    "**In Windows OS**:<br>\n"
   ]
  },
  {
   "cell_type": "markdown",
   "metadata": {},
   "source": [
    "### ⚒ Set the communication configuration"
   ]
  },
  {
   "cell_type": "code",
   "execution_count": null,
   "metadata": {},
   "outputs": [],
   "source": [
    "conf = {\n",
    "    \"port\": \"/dev/ttyUSB0\", # system port where the arduino is connected\n",
    "    \"baudrate\": 9600, # velocity of the port\n",
    "    \"url\": \"http://istsos.org/istsos\", # web address of the istSOS server\n",
    "    \"service\": \"maxdemo\", # service name of the istSOS service\n",
    "    \"procedure_id\": None, # ID of the procedure already registered into istSOS\n",
    "    \"auth\": None # Basic Authentication tuple: (\"admin\", \"batman\") set to None if no auth required\n",
    "}"
   ]
  },
  {
   "cell_type": "markdown",
   "metadata": {},
   "source": [
    "### ⚒  Create a new procedure in istSOS to host data using the WAlib"
   ]
  },
  {
   "cell_type": "code",
   "execution_count": null,
   "metadata": {},
   "outputs": [],
   "source": [
    "sensor = {\n",
    "    \"system_id\":\"ARDUINO_TEST\",\n",
    "    \"system\":\"ARDUINO_TEST\",\n",
    "    \"description\":\"Meteo Station in Bellinzona\",\n",
    "    \"keywords\": \"weather, meteorological, IST\",\n",
    "    \"identification\":[\n",
    "        {\n",
    "            \"name\":\"uniqueID\",\n",
    "            \"definition\":\"urn:ogc:def:identifier:OGC:uniqueID\",\n",
    "            \"value\":\"urn:ogc:def:procedure:x-istsos:1.0:BELLINZONA\"\n",
    "        }\n",
    "    ],\n",
    "    \"classification\":[\n",
    "        {\n",
    "            \"name\":\"System Type\",\n",
    "            \"definition\":\"urn:ogc:def:classifier:x-istsos:1.0:systemType\",\n",
    "            \"value\":\"insitu-fixed-point\"\n",
    "        },\n",
    "        {\n",
    "            \"name\":\"Sensor Type\",\n",
    "            \"definition\":\"urn:ogc:def:classifier:x-istsos:1.0:sensorType\",\n",
    "            \"value\":\"Davis weather station\"\n",
    "        }\n",
    "    ],\n",
    "    \"characteristics\":\"\",\n",
    "    \"contacts\":[],\n",
    "    \"documentation\":[],\n",
    "    \"capabilities\":[],\n",
    "    \"location\":{\n",
    "        \"type\":\"Feature\",\n",
    "        \"geometry\":{\n",
    "            \"type\":\"Point\",\n",
    "            \"coordinates\":[\"9.01976\",\"46.20322\",\"226.3\"]\n",
    "        },\n",
    "        \"crs\":{\n",
    "            \"type\":\"name\",\n",
    "            \"properties\":{\"name\":\"4326\"}\n",
    "        },\n",
    "        \"properties\":{\n",
    "            \"name\":\"ARDUINO_TEST\"\n",
    "        }\n",
    "    },\n",
    "    \"interfaces\":\"\",\n",
    "    \"inputs\":[],\n",
    "    \"outputs\":[\n",
    "        {\n",
    "            \"name\":\"Time\",\n",
    "            \"definition\":\"urn:ogc:def:parameter:x-istsos:1.0:time:iso8601\",\n",
    "            \"uom\":\"iso8601\",\n",
    "            \"description\":\"\",\n",
    "            \"constraint\":{}\n",
    "        },\n",
    "        {\n",
    "            \"name\":\"air-humidity-relative\",\n",
    "            \"definition\":\"urn:ogc:def:parameter:x-istsos:1.0:meteo:air:humidity:relative\",\n",
    "            \"uom\":\"%\",\n",
    "            \"description\":\"-\",\n",
    "            \"constraint\":{\n",
    "                \"role\":\"urn:ogc:def:classifiers:x-istsos:1.0:qualityIndex:check:reasonable\",\n",
    "                \"interval\":[\"0\",\"100\"]\n",
    "            }\n",
    "        },\n",
    "        {\n",
    "            \"name\":\"air-temperature\",\n",
    "            \"definition\":\"urn:ogc:def:parameter:x-istsos:1.0:meteo:air:temperature\",\n",
    "            \"uom\":\"°C\",\n",
    "            \"description\":\"conversion from resistance to temperature\",\n",
    "            \"constraint\":{\n",
    "                \"role\":\"urn:ogc:def:classifiers:x-istsos:1.0:qualityIndex:check:reasonable\",\n",
    "                \"interval\":[\"-40\",\"60\"]\n",
    "            }\n",
    "        }\n",
    "    ],\n",
    "    \"history\":[]\n",
    "}"
   ]
  },
  {
   "cell_type": "markdown",
   "metadata": {},
   "source": [
    "### ⚒ Register sensor and read sensor serial ID"
   ]
  },
  {
   "cell_type": "code",
   "execution_count": null,
   "metadata": {},
   "outputs": [],
   "source": [
    "url = conf['url'] + '/wa/istsos/services/' + conf['service'] + '/procedures'\n",
    "\n",
    "res = requests.post(url, json.dumps(sensor), auth=conf['auth'])\n",
    "if res.status_code == 200:\n",
    "    conf['procedure_id'] = res.json()['message'].split('urn:ogc:def:sensor:x-istsos:1.0:')[1][:32]\n",
    "else:\n",
    "    print(res.json())\n",
    "print(conf)"
   ]
  },
  {
   "cell_type": "markdown",
   "metadata": {},
   "source": [
    "### ⚒ Reading data from serial port\n",
    "The following part of the course is useful to understand how the data can be read from a serial port"
   ]
  },
  {
   "cell_type": "code",
   "execution_count": null,
   "metadata": {},
   "outputs": [],
   "source": [
    "max_count = 4\n",
    "count = 0\n",
    "with serial.Serial(conf['port'], 9600, timeout=10) as ser:\n",
    "    while count < max_count:\n",
    "        line = ser.readline()   # read a '\\n' terminated line\n",
    "        print(\"Line in Bytes String --> {}\".format(\n",
    "            line\n",
    "        ))\n",
    "        print(\"Line decoded         --> {}\".format(\n",
    "            line.decode()\n",
    "        ))\n",
    "        count += 1\n",
    "print('Stopped')"
   ]
  },
  {
   "cell_type": "markdown",
   "metadata": {},
   "source": [
    "### ⚒ Sending data to istSOS"
   ]
  },
  {
   "cell_type": "code",
   "execution_count": null,
   "metadata": {},
   "outputs": [],
   "source": [
    "max_count = 60\n",
    "count = 0\n",
    "post_url = \"{}/wa/istsos/services/{}/operations/fastinsert\".format(\n",
    "    conf['url'],\n",
    "    conf['service']\n",
    ")\n",
    "with serial.Serial(conf['port'], 9600, timeout=10) as ser:\n",
    "    while count < max_count:\n",
    "        line = ser.readline()   # read a '\\n' terminated line\n",
    "        if count > 0:\n",
    "            values = line.decode().strip('\\r\\n')\n",
    "            data = \"{};{},{}\".format(\n",
    "                conf['procedure_id'],\n",
    "                datetime.now(timezone.utc).isoformat(),\n",
    "                values\n",
    "            )\n",
    "            req = requests.post(\n",
    "                post_url,\n",
    "                data,\n",
    "                auth=conf['auth']\n",
    "            )\n",
    "            if req.status_code == 200:\n",
    "                print(data)\n",
    "                print(req.text)\n",
    "            else:\n",
    "                print(data)\n",
    "                print('ERROR: Data not sent')\n",
    "            \n",
    "        count += 1\n",
    "print('Stopped')"
   ]
  }
 ],
 "metadata": {
  "kernelspec": {
   "display_name": "Python 3",
   "language": "python",
   "name": "python3"
  },
  "language_info": {
   "codemirror_mode": {
    "name": "ipython",
    "version": 3
   },
   "file_extension": ".py",
   "mimetype": "text/x-python",
   "name": "python",
   "nbconvert_exporter": "python",
   "pygments_lexer": "ipython3",
   "version": "3.6.9"
  }
 },
 "nbformat": 4,
 "nbformat_minor": 4
}
