{
 "cells": [
  {
   "cell_type": "markdown",
   "metadata": {},
   "source": [
    "# ClimateChange analysis\n",
    "\n",
    "*Adapted from ('Time Series Analysis & Climate Change')*"
   ]
  },
  {
   "cell_type": "markdown",
   "metadata": {},
   "source": [
    "### ⚒ Set NB configuration and libraries"
   ]
  },
  {
   "cell_type": "code",
   "execution_count": null,
   "metadata": {},
   "outputs": [],
   "source": [
    "%load_ext autoreload\n",
    "\n",
    "%autoreload 2\n",
    "\n",
    "%matplotlib inline"
   ]
  },
  {
   "cell_type": "code",
   "execution_count": null,
   "metadata": {},
   "outputs": [],
   "source": [
    "import oatlib"
   ]
  },
  {
   "cell_type": "code",
   "execution_count": null,
   "metadata": {},
   "outputs": [],
   "source": [
    "import requests\n",
    "import json\n",
    "from oatlib import sensor, method, oat_utils\n",
    "from dateutil import parser\n",
    "import matplotlib.pyplot as plt\n",
    "from statistics import stdev\n",
    "\n",
    "from dateutil import parser, relativedelta\n",
    "from datetime import datetime, tzinfo, timedelta\n",
    "import dateutil"
   ]
  },
  {
   "cell_type": "markdown",
   "metadata": {},
   "source": [
    "### ⚒ Create a sensor and upload data"
   ]
  },
  {
   "cell_type": "code",
   "execution_count": null,
   "metadata": {},
   "outputs": [],
   "source": [
    "T_CAV_W = sensor.Sensor(\n",
    "    name='CAVERGNO',\n",
    "    lat=46.34300,\n",
    "    lon=8.60875,\n",
    "    alt=455,\n",
    "    tz= '+02:00',\n",
    "    prop='air:temperature',\n",
    "    unit='celsius'\n",
    ")\n",
    "T_CAV_W.ts_from_csv(\n",
    "    'T_CAV_W.dat',\n",
    "    qualitycol=2,\n",
    "    sep=',',\n",
    "    skiprows=1\n",
    ")\n",
    "T_CAV_W.ts['data'].plot()"
   ]
  },
  {
   "cell_type": "code",
   "execution_count": null,
   "metadata": {},
   "outputs": [],
   "source": [
    "from oatlib import method\n",
    "T_CAV_M = T_CAV_W.process(method.Resample(freq='MS',how='mean',fill='ffill',how_quality='max'))\n",
    "T_CAV_M.ts['data'].plot()"
   ]
  },
  {
   "cell_type": "markdown",
   "metadata": {},
   "source": [
    "### ⚒ Plot weekly and Monthly data"
   ]
  },
  {
   "cell_type": "code",
   "execution_count": null,
   "metadata": {},
   "outputs": [],
   "source": [
    "#T_CAV_M.ts['data'].plot(figsize=(10,8))\n",
    "\n",
    "# Create figure, title and plot data\n",
    "plt.figure(figsize=(16,8))\n",
    "plt.xlabel('Time')\n",
    "plt.ylabel('Temperature (°Celsius)')\n",
    "plt.plot(T_CAV_W.ts['data'], color='#ff0000', linewidth=1)\n",
    "plt.plot(T_CAV_M.ts['data'], color='#0000ff', linewidth=2)"
   ]
  },
  {
   "cell_type": "markdown",
   "metadata": {},
   "source": [
    "### ⚒ Calculate monthly T anomalies\n"
   ]
  },
  {
   "cell_type": "code",
   "execution_count": null,
   "metadata": {},
   "outputs": [],
   "source": [
    "monthly_averages = T_CAV_M.ts['data'].groupby(T_CAV_M.ts.index.month).mean()\n",
    "monthly_averages.plot()"
   ]
  },
  {
   "cell_type": "code",
   "execution_count": null,
   "metadata": {},
   "outputs": [],
   "source": [
    "T_CAV_M_AN = T_CAV_M.copy()\n",
    "for index, row in T_CAV_M_AN.ts.iterrows():\n",
    "    T_CAV_M_AN.ts.loc[index,'data'] = row['data'] - monthly_averages[index.month]\n",
    "    \n",
    "plt.figure(figsize=(16,8))\n",
    "plt.xlabel('Time')\n",
    "plt.ylabel('Monthly Temperature Anomalies(°Celsius)')\n",
    "plt.plot(T_CAV_M_AN.ts['data'], color='#ff0000', linewidth=1)"
   ]
  },
  {
   "cell_type": "markdown",
   "metadata": {},
   "source": [
    "### ⚒ Machine Learning with prophet\n",
    "\n",
    "https://www.youtube.com/watch?v=pOYAXv15r3A&feature=youtu.be\n",
    "\n",
    "    "
   ]
  },
  {
   "cell_type": "code",
   "execution_count": null,
   "metadata": {},
   "outputs": [],
   "source": [
    "from fbprophet import Prophet\n",
    "import pandas as pd\n",
    "# Create a new DataFrame with which we will create/train our Prophet model \n",
    "t_prophet = pd.DataFrame()\n",
    "#t_prophet['ds'] = T_CAV_M_AN.ts.index\n",
    "#t_prophet['y'] = T_CAV_M_AN.ts['data'].values\n",
    "t_prophet['ds'] = T_CAV_W.ts.index\n",
    "t_prophet['y'] = T_CAV_W.ts['data'].values"
   ]
  },
  {
   "cell_type": "markdown",
   "metadata": {},
   "source": [
    "### ⚒ Model FIT"
   ]
  },
  {
   "cell_type": "code",
   "execution_count": null,
   "metadata": {},
   "outputs": [],
   "source": [
    "# Instantiate model and fit to data (just like with sklearn model API)\n",
    "m = Prophet()\n",
    "m.fit(t_prophet)"
   ]
  },
  {
   "cell_type": "markdown",
   "metadata": {},
   "source": [
    "### ⚒ Model predictions"
   ]
  },
  {
   "cell_type": "code",
   "execution_count": null,
   "metadata": {},
   "outputs": [],
   "source": [
    "# Generate future dataframe containing predictions (we are doing this for 100 years into the future)\n",
    "future = m.make_future_dataframe(freq='m', periods=2*12)\n",
    "forecast = m.predict(future)\n",
    "# Plot the resulting forecast\n",
    "fig1 = m.plot(forecast)"
   ]
  },
  {
   "cell_type": "code",
   "execution_count": null,
   "metadata": {},
   "outputs": [],
   "source": [
    "fig2 = m.plot_components(forecast)"
   ]
  },
  {
   "cell_type": "code",
   "execution_count": null,
   "metadata": {},
   "outputs": [],
   "source": [
    "forecast.head()"
   ]
  }
 ],
 "metadata": {
  "kernelspec": {
   "display_name": "Python 3",
   "language": "python",
   "name": "python3"
  },
  "language_info": {
   "codemirror_mode": {
    "name": "ipython",
    "version": 3
   },
   "file_extension": ".py",
   "mimetype": "text/x-python",
   "name": "python",
   "nbconvert_exporter": "python",
   "pygments_lexer": "ipython3",
   "version": "3.6.8"
  }
 },
 "nbformat": 4,
 "nbformat_minor": 2
}
