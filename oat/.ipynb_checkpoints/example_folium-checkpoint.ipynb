{
 "cells": [
  {
   "cell_type": "markdown",
   "metadata": {},
   "source": [
    "# How to map stations\n",
    "## An example of interactive web map"
   ]
  },
  {
   "cell_type": "code",
   "execution_count": null,
   "metadata": {},
   "outputs": [],
   "source": [
    "%load_ext autoreload\n",
    "%autoreload 2\n",
    "%matplotlib inline"
   ]
  },
  {
   "cell_type": "code",
   "execution_count": null,
   "metadata": {},
   "outputs": [],
   "source": [
    "import requests\n",
    "import json\n",
    "import sys\n",
    "import folium"
   ]
  },
  {
   "cell_type": "code",
   "execution_count": null,
   "metadata": {},
   "outputs": [],
   "source": [
    "import oatlib\n",
    "from oatlib import oat_utils"
   ]
  },
  {
   "cell_type": "markdown",
   "metadata": {},
   "source": [
    "⚒ set istSOS connection parameters"
   ]
  },
  {
   "cell_type": "code",
   "execution_count": null,
   "metadata": {},
   "outputs": [],
   "source": [
    "server = 'http://istsos.org/istsos'\n",
    "service = 'demo'\n",
    "user = None\n",
    "pwd = None"
   ]
  },
  {
   "cell_type": "markdown",
   "metadata": {},
   "source": [
    "⚒ collect the stations/procedures as geoJson"
   ]
  },
  {
   "cell_type": "code",
   "execution_count": null,
   "metadata": {},
   "outputs": [],
   "source": [
    "proceduresJson = oat_utils.get_istSOS_Geo_Procedures(server, service, user, pwd)\n",
    "#proceduresJson"
   ]
  },
  {
   "cell_type": "markdown",
   "metadata": {},
   "source": [
    "⚒ plot the stations location"
   ]
  },
  {
   "cell_type": "code",
   "execution_count": null,
   "metadata": {},
   "outputs": [],
   "source": [
    "m = folium.Map([46, 9], zoom_start=10)\n",
    "geojson = folium.GeoJson(\n",
    "                        proceduresJson,\n",
    "                        tooltip=folium.features.GeoJsonTooltip(fields=['observedproperties','name'])\n",
    "                        )\n",
    "geojson.add_to(m)\n",
    "m"
   ]
  },
  {
   "cell_type": "markdown",
   "metadata": {},
   "source": [
    "⚒ Let's add a popup and change colors to icons to understand what is measured where"
   ]
  },
  {
   "cell_type": "code",
   "execution_count": null,
   "metadata": {},
   "outputs": [],
   "source": [
    "\n",
    "m = folium.Map([46, 9], zoom_start=10)\n",
    "icon_size = (14, 14)\n",
    "\n",
    "for feature in proceduresJson['features']:\n",
    "    lon, lat, z = feature['geometry']['coordinates']\n",
    "    #icon_url = feature['properties']['icon']\n",
    "    popup = \"<br>\".join([x['name'] for x in feature['properties']['observedproperties']])\n",
    "    \n",
    "    if 'air' in popup:\n",
    "        color = 'red'\n",
    "    elif 'river' in popup:\n",
    "        color = 'blue'\n",
    "    else:\n",
    "        color = 'orange'\n",
    "    \n",
    "    #icon = folium.features.CustomIcon(icon_url,\n",
    "    #                                  icon_size=(14, 14))\n",
    "    icon=folium.Icon(color=color, icon='info-sign')\n",
    "    \n",
    "    marker = folium.map.Marker([lat, lon], icon=icon,\n",
    "                               popup=folium.map.Popup(popup))\n",
    "    m.add_child(marker)\n",
    "\n",
    "m"
   ]
  },
  {
   "cell_type": "markdown",
   "metadata": {},
   "source": [
    "⚒ let save the map in standalone HTML"
   ]
  },
  {
   "cell_type": "code",
   "execution_count": null,
   "metadata": {},
   "outputs": [],
   "source": [
    "m.save('index.html')"
   ]
  }
 ],
 "metadata": {
  "kernelspec": {
   "display_name": "Python 3",
   "language": "python",
   "name": "python3"
  },
  "language_info": {
   "codemirror_mode": {
    "name": "ipython",
    "version": 3
   },
   "file_extension": ".py",
   "mimetype": "text/x-python",
   "name": "python",
   "nbconvert_exporter": "python",
   "pygments_lexer": "ipython3",
   "version": "3.6.9"
  }
 },
 "nbformat": 4,
 "nbformat_minor": 4
}
