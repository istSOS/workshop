{
 "cells": [
  {
   "cell_type": "markdown",
   "metadata": {},
   "source": [
    "# River Discharge time series analysis\n",
    "\n",
    "*Adapted from ('Time Series Analysis & Climate Change')*"
   ]
  },
  {
   "cell_type": "markdown",
   "metadata": {},
   "source": [
    "### ⚒ Set NB configuration and libraries"
   ]
  },
  {
   "cell_type": "code",
   "execution_count": null,
   "metadata": {},
   "outputs": [],
   "source": [
    "%load_ext autoreload\n",
    "\n",
    "%autoreload 2\n",
    "\n",
    "%matplotlib inline"
   ]
  },
  {
   "cell_type": "code",
   "execution_count": null,
   "metadata": {},
   "outputs": [],
   "source": [
    "import requests\n",
    "import json\n",
    "from oatlib import sensor, method, oat_utils\n",
    "from dateutil import parser\n",
    "import matplotlib.pyplot as plt\n",
    "from statistics import stdev\n",
    "\n",
    "from dateutil import parser, relativedelta\n",
    "from datetime import datetime, tzinfo, timedelta\n",
    "import dateutil\n"
   ]
  },
  {
   "cell_type": "markdown",
   "metadata": {},
   "source": [
    "### ⚒ Create a sensor and upload data"
   ]
  },
  {
   "cell_type": "code",
   "execution_count": null,
   "metadata": {},
   "outputs": [],
   "source": [
    "Q_VED = sensor.Sensor(\n",
    "    name='CAVERGNO',\n",
    "    lat=46.34300,\n",
    "    lon=8.60875,\n",
    "    alt=455,\n",
    "    tz= '+02:00',\n",
    "    prop='air:temperature',\n",
    "    unit='celsius'\n",
    ")\n",
    "Q_VED.ts_from_csv(\n",
    "    'data/Q_VED_ISO_20180101000000000000.dat',\n",
    "    qualitycol=2,\n",
    "    sep=',',\n",
    "    skiprows=1\n",
    ")\n",
    "Q_VED.ts['data'].plot()\n",
    "Q_VED.ts.dtypes"
   ]
  },
  {
   "cell_type": "markdown",
   "metadata": {},
   "source": [
    "### ⚒ Generate the Monthly mean"
   ]
  },
  {
   "cell_type": "code",
   "execution_count": null,
   "metadata": {},
   "outputs": [],
   "source": [
    "Q_VED_M = Q_VED.process(method.Resample(freq='MS',how='mean',fill='ffill',how_quality='max'))\n",
    "Q_VED_M.ts.dtypes\n",
    "Q_VED_M.ts['data'].plot()"
   ]
  },
  {
   "cell_type": "markdown",
   "metadata": {},
   "source": [
    "### ⚒ Plot data and Monthly data"
   ]
  },
  {
   "cell_type": "code",
   "execution_count": null,
   "metadata": {},
   "outputs": [],
   "source": [
    "#T_CAV_M.ts['data'].plot(figsize=(10,8))\n",
    "\n",
    "# Create figure, title and plot data\n",
    "plt.figure(figsize=(16,8))\n",
    "plt.xlabel('Time')\n",
    "plt.ylabel('Temperature (°Celsius)')\n",
    "plt.plot(Q_VED.ts['data'], color='#ff0000', linewidth=1)\n",
    "plt.plot(Q_VED_M.ts['data'], color='#0000ff', linewidth=2)"
   ]
  },
  {
   "cell_type": "markdown",
   "metadata": {},
   "source": [
    "### ⚒ Calculate monthly Q anomalies\n",
    "\n",
    "First we need to calculate the monthly discharge averages.   \n",
    "We use the \"groupby\" method that create subsamples of data that has the same month number and then we apply the \"mean\".\n"
   ]
  },
  {
   "cell_type": "code",
   "execution_count": null,
   "metadata": {},
   "outputs": [],
   "source": [
    "monthly_averages = Q_VED_M.ts['data'].groupby(Q_VED_M.ts.index.month).mean()\n",
    "monthly_averages.plot(figsize=(16,8))"
   ]
  },
  {
   "cell_type": "markdown",
   "metadata": {},
   "source": [
    "Then, We create a new sensor that is a copy of the \"Q_VED\" and iterate along the rows   \n",
    "setting the \"data\" column as the deviation from the corresponding month mean (calculate above)\n",
    "\n",
    "Finally we plot the calculate anomalies, specifying the plot size, the axis names and the line color and width"
   ]
  },
  {
   "cell_type": "code",
   "execution_count": null,
   "metadata": {},
   "outputs": [],
   "source": [
    "Q_VED_M_AN = Q_VED_M.copy()\n",
    "\n",
    "for index, row in Q_VED_M_AN.ts.iterrows():\n",
    "    Q_VED_M_AN.ts.loc[index,'data'] = row['data'] - monthly_averages[index.month]\n",
    "    \n",
    "plt.figure(figsize=(16,8))\n",
    "plt.xlabel('Time')\n",
    "plt.ylabel('Monthly Discharges Anomalies(mc/s)')\n",
    "plt.plot(Q_VED_M_AN.ts['data'], color='#ff0000', linewidth=1)"
   ]
  },
  {
   "cell_type": "markdown",
   "metadata": {},
   "source": [
    "## ⚒ Forecasting with Prophet\n",
    "[Prophet](https://www.youtube.com/watch?v=pOYAXv15r3A&feature=youtu.be) is a forecasting tool developed by Facebook to quickly forecast time series data.\n",
    "\n",
    "The Prophet algorithm is an additive model, which means that it detects the following trend and seasonality from the data first, then combine them together to get the forecasted values.\n",
    "\n",
    "   * Overall Trend\n",
    "   * Yearly, Weekly, Daily Seasonality\n",
    "   * Holiday Effect\n",
    "\n",
    "And this means that by looking at the trend and the seasonality that are detected by the Prophet, we can gain quite a lot of useful insights from the model.\n",
    "\n",
    "**NOTE**: <br>\n",
    "Prophet depends on Pandas, but it has not been still released with bug fixes due to later Pandas 1.0.0 release. <br>\n",
    "Either downgrade to Pandas 0.25.3, compile from github or wait for next pip release"
   ]
  },
  {
   "cell_type": "code",
   "execution_count": null,
   "metadata": {},
   "outputs": [],
   "source": [
    "#import the library\n",
    "try:\n",
    "    from fbprophet import Prophet\n",
    "except:\n",
    "    if hasattr(sys, 'real_prefix'):\n",
    "        !pip install plotly --upgrade \n",
    "        !pip install holidays==0.9.12\n",
    "        !pip install pystan\n",
    "        !pip install fbprophet\n",
    "    else: \n",
    "        !pip install plotly --upgrade --user\n",
    "        !pip install holidays==0.9.12 --user\n",
    "        !pip install pystan --user\n",
    "        !pip install fbprophet --user\n",
    "        from fbprophet import Prophet\n",
    "\n",
    "import pandas as pd"
   ]
  },
  {
   "cell_type": "code",
   "execution_count": null,
   "metadata": {},
   "outputs": [],
   "source": [
    "\n",
    "from fbprophet import Prophet"
   ]
  },
  {
   "cell_type": "markdown",
   "metadata": {},
   "source": [
    "### ⚒ Create a data frame as prophet requires"
   ]
  },
  {
   "cell_type": "code",
   "execution_count": null,
   "metadata": {},
   "outputs": [],
   "source": [
    "# Create a new DataFrame with which we will create/train our Prophet model \n",
    "t_prophet = pd.DataFrame()\n",
    "t_prophet['ds'] = Q_VED.ts.index\n",
    "t_prophet['y'] = Q_VED.ts['data'].values"
   ]
  },
  {
   "cell_type": "markdown",
   "metadata": {},
   "source": [
    "### ⚒ Instantiate model and fit to data"
   ]
  },
  {
   "cell_type": "code",
   "execution_count": null,
   "metadata": {},
   "outputs": [],
   "source": [
    "m = Prophet()\n",
    "m.fit(t_prophet)"
   ]
  },
  {
   "cell_type": "markdown",
   "metadata": {},
   "source": [
    "### ⚒ Generate future dataframe containing predictions (we are doing this for 2 years into the future)"
   ]
  },
  {
   "cell_type": "code",
   "execution_count": null,
   "metadata": {},
   "outputs": [],
   "source": [
    "future = m.make_future_dataframe(freq='m', periods=2*12)\n",
    "forecast = m.predict(future)"
   ]
  },
  {
   "cell_type": "markdown",
   "metadata": {},
   "source": [
    "**Forecast contain the predicted value (yhat).**   \n",
    "Additionally, it shows lower/upper bounds of uncertainty (yhat_lower and yhat_upper).   \n",
    "The ‘Uncertainty Interval’, similar to Confidence Interval, indicates the range the model thinks the forecasted values could be.  \n",
    "The default is 80%, which can be configurable from the property \"interval_width\" \n",
    "e.g.: \n",
    "\n",
    "    forecast = Prophet(interval_width=0.95).fit(df).predict(future)\n",
    "    \n"
   ]
  },
  {
   "cell_type": "code",
   "execution_count": null,
   "metadata": {},
   "outputs": [],
   "source": [
    "forecast[['ds', 'yhat', 'yhat_lower', 'yhat_upper']].tail()"
   ]
  },
  {
   "cell_type": "markdown",
   "metadata": {},
   "source": [
    "### ⚒ Plot the resulting forecast"
   ]
  },
  {
   "cell_type": "markdown",
   "metadata": {},
   "source": [
    "Plottingthe forecast produce a graph of the observations, the forecasted values and the uncertanty interval.   \n",
    "Past observations, show the goodness of prediction compared to data and highlight \"outliers\".   \n"
   ]
  },
  {
   "cell_type": "code",
   "execution_count": null,
   "metadata": {},
   "outputs": [],
   "source": [
    "fig1 = m.plot(forecast)"
   ]
  },
  {
   "cell_type": "markdown",
   "metadata": {},
   "source": [
    "### ⚒ Plot the components"
   ]
  },
  {
   "cell_type": "markdown",
   "metadata": {},
   "source": [
    "Plotting the different found additive components illustrete:\n",
    "* Trend = This is a line but the slope changes at something called ‘change points’, which are the times where the trend changes compared to the trend in the previous period.\n",
    "* Seasonality (Yearly, Weekly, Daily) = These lines identify the components of different found seasonality effects \n",
    "\n",
    "**Note:** the y scale which indicates the relative additive factor"
   ]
  },
  {
   "cell_type": "code",
   "execution_count": null,
   "metadata": {},
   "outputs": [],
   "source": [
    "fig2 = m.plot_components(forecast)"
   ]
  },
  {
   "cell_type": "code",
   "execution_count": null,
   "metadata": {},
   "outputs": [],
   "source": [
    "forecast.tail()"
   ]
  },
  {
   "cell_type": "code",
   "execution_count": null,
   "metadata": {},
   "outputs": [],
   "source": []
  }
 ],
 "metadata": {
  "kernelspec": {
   "display_name": "Python 3",
   "language": "python",
   "name": "python3"
  },
  "language_info": {
   "codemirror_mode": {
    "name": "ipython",
    "version": 3
   },
   "file_extension": ".py",
   "mimetype": "text/x-python",
   "name": "python",
   "nbconvert_exporter": "python",
   "pygments_lexer": "ipython3",
   "version": "3.6.9"
  }
 },
 "nbformat": 4,
 "nbformat_minor": 4
}
