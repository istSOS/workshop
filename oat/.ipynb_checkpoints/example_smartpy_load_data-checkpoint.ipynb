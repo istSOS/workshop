{
 "cells": [
  {
   "cell_type": "markdown",
   "metadata": {},
   "source": [
    "### creare file da OAT da passare a SmartPy"
   ]
  },
  {
   "cell_type": "code",
   "execution_count": 8,
   "metadata": {},
   "outputs": [
    {
     "name": "stdout",
     "output_type": "stream",
     "text": [
      "The autoreload extension is already loaded. To reload it, use:\n",
      "  %reload_ext autoreload\n",
      "['/home/maxi/GIT/OAT/oatlib', '/home/maxi/GIT/OAT/oatlib', '/home/maxi/GIT/OAT/oatlib', '/home/maxi/GIT/OAT/oatlib', '/home/maxi/GIT/OAT/oatlib/', '/home/maxi/Documents/2020/didattica/istSOS_workshop/venv/lib/python36.zip', '/home/maxi/Documents/2020/didattica/istSOS_workshop/venv/lib/python3.6', '/home/maxi/Documents/2020/didattica/istSOS_workshop/venv/lib/python3.6/lib-dynload', '/usr/lib/python3.6', '', '/home/maxi/Documents/2020/didattica/istSOS_workshop/venv/lib/python3.6/site-packages', '/home/maxi/Documents/2020/didattica/istSOS_workshop/venv/lib/python3.6/site-packages/IPython/extensions', '/home/maxi/.ipython']\n"
     ]
    },
    {
     "ename": "ImportError",
     "evalue": "required packages not installed No module named 'oatlib'",
     "output_type": "error",
     "traceback": [
      "\u001b[0;31m---------------------------------------------------------------------------\u001b[0m",
      "\u001b[0;31mModuleNotFoundError\u001b[0m                       Traceback (most recent call last)",
      "\u001b[0;32m~/GIT/OAT/oatlib/sos2sos.py\u001b[0m in \u001b[0;36m<module>\u001b[0;34m\u001b[0m\n\u001b[1;32m      6\u001b[0m \u001b[0;32mtry\u001b[0m\u001b[0;34m:\u001b[0m\u001b[0;34m\u001b[0m\u001b[0;34m\u001b[0m\u001b[0m\n\u001b[0;32m----> 7\u001b[0;31m     \u001b[0;32mfrom\u001b[0m \u001b[0moatlib\u001b[0m \u001b[0;32mimport\u001b[0m \u001b[0msensor\u001b[0m\u001b[0;34m\u001b[0m\u001b[0;34m\u001b[0m\u001b[0m\n\u001b[0m\u001b[1;32m      8\u001b[0m     \u001b[0;31m#import method\u001b[0m\u001b[0;34m\u001b[0m\u001b[0;34m\u001b[0m\u001b[0;34m\u001b[0m\u001b[0m\n",
      "\u001b[0;31mModuleNotFoundError\u001b[0m: No module named 'oatlib'",
      "\nDuring handling of the above exception, another exception occurred:\n",
      "\u001b[0;31mImportError\u001b[0m                               Traceback (most recent call last)",
      "\u001b[0;32m<ipython-input-8-615b2235199e>\u001b[0m in \u001b[0;36m<module>\u001b[0;34m\u001b[0m\n\u001b[1;32m     12\u001b[0m \u001b[0;32mimport\u001b[0m \u001b[0mrequests\u001b[0m\u001b[0;34m\u001b[0m\u001b[0;34m\u001b[0m\u001b[0m\n\u001b[1;32m     13\u001b[0m \u001b[0;32mimport\u001b[0m \u001b[0msensor\u001b[0m\u001b[0;34m,\u001b[0m \u001b[0moat_utils\u001b[0m\u001b[0;34m\u001b[0m\u001b[0;34m\u001b[0m\u001b[0m\n\u001b[0;32m---> 14\u001b[0;31m \u001b[0;32mimport\u001b[0m \u001b[0msos2sos\u001b[0m\u001b[0;34m\u001b[0m\u001b[0;34m\u001b[0m\u001b[0m\n\u001b[0m",
      "\u001b[0;32m~/GIT/OAT/oatlib/sos2sos.py\u001b[0m in \u001b[0;36m<module>\u001b[0;34m\u001b[0m\n\u001b[1;32m     17\u001b[0m \u001b[0;34m\u001b[0m\u001b[0m\n\u001b[1;32m     18\u001b[0m \u001b[0;32mexcept\u001b[0m \u001b[0mImportError\u001b[0m \u001b[0;32mas\u001b[0m \u001b[0me\u001b[0m\u001b[0;34m:\u001b[0m\u001b[0;34m\u001b[0m\u001b[0;34m\u001b[0m\u001b[0m\n\u001b[0;32m---> 19\u001b[0;31m     \u001b[0;32mraise\u001b[0m \u001b[0mImportError\u001b[0m\u001b[0;34m(\u001b[0m\u001b[0;34m'required packages not installed %s'\u001b[0m \u001b[0;34m%\u001b[0m \u001b[0me\u001b[0m\u001b[0;34m)\u001b[0m\u001b[0;34m\u001b[0m\u001b[0;34m\u001b[0m\u001b[0m\n\u001b[0m\u001b[1;32m     20\u001b[0m \u001b[0;34m\u001b[0m\u001b[0m\n\u001b[1;32m     21\u001b[0m \u001b[0;32mdef\u001b[0m \u001b[0mistSOS2istSOS\u001b[0m\u001b[0;34m(\u001b[0m\u001b[0mfrom_istSOS\u001b[0m\u001b[0;34m,\u001b[0m \u001b[0mto_istSOS\u001b[0m\u001b[0;34m,\u001b[0m \u001b[0mto_sensors\u001b[0m\u001b[0;34m,\u001b[0m \u001b[0mgen_settings\u001b[0m\u001b[0;34m,\u001b[0m \u001b[0mverbose\u001b[0m\u001b[0;34m=\u001b[0m\u001b[0;32mFalse\u001b[0m\u001b[0;34m,\u001b[0m \u001b[0mminlog\u001b[0m\u001b[0;34m=\u001b[0m\u001b[0;32mFalse\u001b[0m\u001b[0;34m)\u001b[0m\u001b[0;34m:\u001b[0m\u001b[0;34m\u001b[0m\u001b[0;34m\u001b[0m\u001b[0m\n",
      "\u001b[0;31mImportError\u001b[0m: required packages not installed No module named 'oatlib'"
     ]
    }
   ],
   "source": [
    "%load_ext autoreload\n",
    "%autoreload 2\n",
    "\n",
    "import sys\n",
    "sys.path.insert(0,'/home/maxi/GIT/OAT')\n",
    "print(sys.path)\n",
    "\n",
    "\n",
    "import sys\n",
    "from datetime import datetime, timezone\n",
    "import json\n",
    "import requests\n",
    "from oatlib import sensor, oat_utils, sos2sos"
   ]
  },
  {
   "cell_type": "code",
   "execution_count": 6,
   "metadata": {},
   "outputs": [
    {
     "name": "stdout",
     "output_type": "stream",
     "text": [
      "\u001b[33mWARNING: Skipping oatlib as it is not installed.\u001b[0m\n"
     ]
    }
   ],
   "source": [
    "!pip uninstall --yes oatlib"
   ]
  },
  {
   "cell_type": "code",
   "execution_count": 7,
   "metadata": {},
   "outputs": [],
   "source": [
    "conf = {\n",
    "    \"url\": \"http://istsos.org/istsos\", # web address of the istSOS server\n",
    "    \"service\": \"demo\", # service name of the istSOS service\n",
    "    \"procedure_id\": None, # ID of the procedure already registered into istSOS\n",
    "    \"auth\": None # Basic Authentication tuple: (\"admin\", \"batman\") set to None if no auth required\n",
    "}"
   ]
  },
  {
   "cell_type": "code",
   "execution_count": 3,
   "metadata": {},
   "outputs": [],
   "source": [
    "pcav = {\n",
    "   \"system_id\":\"P_CAV\",\n",
    "   \"system\":\"P_CAV\",\n",
    "   \"description\":\"Pluviometer in Cavergno\",\n",
    "   \"keywords\":\"weather, meteorological, IST\",\n",
    "   \"identification\":[\n",
    "      {\n",
    "         \"name\":\"uniqueID\",\n",
    "         \"definition\":\"urn:ogc:def:identifier:OGC:uniqueID\",\n",
    "         \"value\":\"urn:ogc:def:procedure:x-istsos:1.0:P_CAV\"\n",
    "      },\n",
    "      {\n",
    "         \"name\":\"modelNumber\",\n",
    "         \"definition\":\"urn:x-ogc:def:identifier:x-istsos:1.0:modelNumber\",\n",
    "         \"value\":\"t028 TP1KR\"\n",
    "      },\n",
    "      {\n",
    "         \"name\":\"manufacturerName\",\n",
    "         \"definition\":\"urn:x-ogc:def:identifier:x-istsos:1.0:manufacturerName\",\n",
    "         \"value\":\"Siap-Micros\"\n",
    "      }\n",
    "   ],\n",
    "   \"classification\":[\n",
    "      {\n",
    "         \"name\":\"System Type\",\n",
    "         \"definition\":\"urn:ogc:def:classifier:x-istsos:1.0:systemType\",\n",
    "         \"value\":\"insitu-fixed-point\"\n",
    "      },\n",
    "      {\n",
    "         \"name\":\"Sensor Type\",\n",
    "         \"definition\":\"urn:ogc:def:classifier:x-istsos:1.0:sensorType\",\n",
    "         \"value\":\"tipping-bucket\"\n",
    "      }\n",
    "   ],\n",
    "   \"characteristics\":\"\",\n",
    "   \"capabilities\":[],\n",
    "   \"contacts\":[\n",
    "      {\n",
    "         \"role\":\"urn:x-ogc:def:classifiers:x-istsos:1.0:contactType:owner\",\n",
    "         \"organizationName\":\"Istituto scienze della Terra\",\n",
    "         \"individualName\":\"Maurizio Pozzoni\",\n",
    "         \"voice\":\"+41(0)586666200\",\n",
    "         \"fax\":\"+41(0)586666209\",\n",
    "         \"deliveryPoint\":\"Via Trevano, c.p. 72\",\n",
    "         \"city\":\"Canobbio\",\n",
    "         \"administrativeArea\":\"Ticino\",\n",
    "         \"postalcode\":\"6952\",\n",
    "         \"country\":\"Svizzera\",\n",
    "         \"email\":\"ist@supsi.ch\",\n",
    "         \"web\":\"http://www.supsi.ch/ist\"\n",
    "      }\n",
    "   ],\n",
    "   \"documentation\":[],\n",
    "   \"location\":{\n",
    "      \"type\":\"Feature\",\n",
    "      \"geometry\":{\n",
    "         \"type\":\"Point\",\n",
    "         \"coordinates\":[\"690081\",\"133073\",\"455\"]\n",
    "      },\n",
    "      \"crs\":{\n",
    "         \"type\":\"name\",\n",
    "         \"properties\":{\"name\":\"EPSG:21781\"}\n",
    "      },\n",
    "      \"properties\":{\n",
    "         \"name\":\"Cavergno\"\n",
    "      }\n",
    "   },\n",
    "   \"interfaces\":\"\",\n",
    "   \"inputs\":[],\n",
    "   \"outputs\":[\n",
    "      {\n",
    "         \"name\":\"Time\",\n",
    "         \"definition\":\"urn:ogc:def:parameter:x-istsos:1.0:time:iso8601\",\n",
    "         \"description\":\"\",\n",
    "         \"uom\":\"\",\n",
    "         \"constraint\":{\n",
    "            \"interval\":[\n",
    "               \"2004-02-10T23:00:00.000000Z\",\n",
    "               \"2020-03-02T17:10:00.000000Z\"\n",
    "            ]\n",
    "         }\n",
    "      },\n",
    "      {\n",
    "         \"name\":\"air-rainfall\",\n",
    "         \"definition\":\"urn:ogc:def:parameter:x-istsos:1.0:meteo:air:rainfall\",\n",
    "         \"description\":\"liquid precipitation\",\n",
    "         \"uom\":\"mm\",\n",
    "         \"constraint\":{\n",
    "            \"role\":\"urn:ogc:def:classifiers:x-istsos:1.0:qualityIndex:check:reasonable\",\n",
    "            \"interval\":[\"0.0\",\"40.0\"]\n",
    "         }\n",
    "      }\n",
    "   ],\n",
    "   \"history\":[]\n",
    "}"
   ]
  },
  {
   "cell_type": "code",
   "execution_count": 4,
   "metadata": {},
   "outputs": [],
   "source": [
    "qmaglod = {\n",
    "   \"system_id\":\"Q_MAG_LOD\",\n",
    "   \"system\":\"Q_MAG_LOD\",\n",
    "   \"description\":\"discharge in Lodano of river Maggia\",\n",
    "   \"keywords\":\"\",\n",
    "   \"identification\":[\n",
    "      {\n",
    "         \"name\":\"uniqueID\",\n",
    "         \"definition\":\"urn:ogc:def:identifier:OGC:uniqueID\",\n",
    "         \"value\":\"urn:ogc:def:procedure:x-istsos:1.0:Q_MAG_LOD\"\n",
    "      }\n",
    "   ],\n",
    "   \"classification\":[\n",
    "      {\n",
    "         \"name\":\"System Type\",\n",
    "         \"definition\":\"urn:ogc:def:classifier:x-istsos:1.0:systemType\",\n",
    "         \"value\":\"insitu-fixed-point\"\n",
    "      },\n",
    "      {\n",
    "         \"name\":\"Sensor Type\",\n",
    "         \"definition\":\"urn:ogc:def:classifier:x-istsos:1.0:sensorType\",\n",
    "         \"value\":\"unkown\"\n",
    "      }\n",
    "   ],\n",
    "   \"characteristics\":\"\",\n",
    "   \"capabilities\":[],\n",
    "   \"contacts\":[],\n",
    "   \"documentation\":[],\n",
    "   \"location\":{\n",
    "      \"type\":\"Feature\",\n",
    "      \"geometry\":{\n",
    "         \"type\":\"Point\",\n",
    "         \"coordinates\":[\"696435\",\"124132\",\"327\"]\n",
    "      },\n",
    "      \"crs\":{\n",
    "         \"type\":\"name\",\n",
    "         \"properties\":{\"name\":\"EPSG:21781\"}\n",
    "      },\n",
    "      \"properties\":{\n",
    "         \"name\":\"Lodano\"\n",
    "      }\n",
    "   },\n",
    "   \"interfaces\":\"\",\n",
    "   \"inputs\":[],\n",
    "   \"outputs\":[\n",
    "      {\n",
    "         \"name\":\"Time\",\n",
    "         \"definition\":\"urn:ogc:def:parameter:x-istsos:1.0:time:iso8601\",\n",
    "         \"description\":\"\",\n",
    "         \"uom\":\"\",\n",
    "         \"constraint\":{\n",
    "            \"interval\":[\n",
    "               \"2001-10-28T23:00:00.000000Z\",\n",
    "               \"2020-03-02T17:30:00.000000Z\"\n",
    "            ]\n",
    "         }\n",
    "      },\n",
    "      {\n",
    "         \"name\":\"water-discharge\",\n",
    "         \"definition\":\"urn:ogc:def:parameter:x-istsos:1.0:river:water:discharge\",\n",
    "         \"description\":\"\",\n",
    "         \"uom\":\"m3/s\"\n",
    "      }\n",
    "   ],\n",
    "   \"history\":[]\n",
    "}"
   ]
  },
  {
   "cell_type": "code",
   "execution_count": 5,
   "metadata": {},
   "outputs": [
    {
     "ename": "IndexError",
     "evalue": "list index out of range",
     "output_type": "error",
     "traceback": [
      "\u001b[0;31m---------------------------------------------------------------------------\u001b[0m",
      "\u001b[0;31mIndexError\u001b[0m                                Traceback (most recent call last)",
      "\u001b[0;32m<ipython-input-5-fe7747f5eef4>\u001b[0m in \u001b[0;36m<module>\u001b[0;34m\u001b[0m\n\u001b[1;32m      4\u001b[0m     \u001b[0mres\u001b[0m \u001b[0;34m=\u001b[0m \u001b[0mrequests\u001b[0m\u001b[0;34m.\u001b[0m\u001b[0mpost\u001b[0m\u001b[0;34m(\u001b[0m\u001b[0murl\u001b[0m\u001b[0;34m,\u001b[0m \u001b[0mjson\u001b[0m\u001b[0;34m.\u001b[0m\u001b[0mdumps\u001b[0m\u001b[0;34m(\u001b[0m\u001b[0msensor\u001b[0m\u001b[0;34m)\u001b[0m\u001b[0;34m,\u001b[0m \u001b[0mauth\u001b[0m\u001b[0;34m=\u001b[0m\u001b[0mconf\u001b[0m\u001b[0;34m[\u001b[0m\u001b[0;34m'auth'\u001b[0m\u001b[0;34m]\u001b[0m\u001b[0;34m)\u001b[0m\u001b[0;34m\u001b[0m\u001b[0;34m\u001b[0m\u001b[0m\n\u001b[1;32m      5\u001b[0m     \u001b[0;32mif\u001b[0m \u001b[0mres\u001b[0m\u001b[0;34m.\u001b[0m\u001b[0mstatus_code\u001b[0m \u001b[0;34m==\u001b[0m \u001b[0;36m200\u001b[0m\u001b[0;34m:\u001b[0m\u001b[0;34m\u001b[0m\u001b[0;34m\u001b[0m\u001b[0m\n\u001b[0;32m----> 6\u001b[0;31m         \u001b[0msensor\u001b[0m\u001b[0;34m[\u001b[0m\u001b[0;34m'procedure_id'\u001b[0m\u001b[0;34m]\u001b[0m \u001b[0;34m=\u001b[0m \u001b[0mres\u001b[0m\u001b[0;34m.\u001b[0m\u001b[0mjson\u001b[0m\u001b[0;34m(\u001b[0m\u001b[0;34m)\u001b[0m\u001b[0;34m[\u001b[0m\u001b[0;34m'message'\u001b[0m\u001b[0;34m]\u001b[0m\u001b[0;34m.\u001b[0m\u001b[0msplit\u001b[0m\u001b[0;34m(\u001b[0m\u001b[0;34m'urn:ogc:def:sensor:x-istsos:1.0:'\u001b[0m\u001b[0;34m)\u001b[0m\u001b[0;34m[\u001b[0m\u001b[0;36m1\u001b[0m\u001b[0;34m]\u001b[0m\u001b[0;34m[\u001b[0m\u001b[0;34m:\u001b[0m\u001b[0;36m32\u001b[0m\u001b[0;34m]\u001b[0m\u001b[0;34m\u001b[0m\u001b[0;34m\u001b[0m\u001b[0m\n\u001b[0m\u001b[1;32m      7\u001b[0m     \u001b[0;32melse\u001b[0m\u001b[0;34m:\u001b[0m\u001b[0;34m\u001b[0m\u001b[0;34m\u001b[0m\u001b[0m\n\u001b[1;32m      8\u001b[0m         \u001b[0mprint\u001b[0m\u001b[0;34m(\u001b[0m\u001b[0mres\u001b[0m\u001b[0;34m.\u001b[0m\u001b[0mjson\u001b[0m\u001b[0;34m(\u001b[0m\u001b[0;34m)\u001b[0m\u001b[0;34m)\u001b[0m\u001b[0;34m\u001b[0m\u001b[0;34m\u001b[0m\u001b[0m\n",
      "\u001b[0;31mIndexError\u001b[0m: list index out of range"
     ]
    }
   ],
   "source": [
    "url = conf['url'] + '/wa/istsos/services/' + conf['service'] + '/procedures'\n",
    "\n",
    "for sensor in [pcav,qmaglod]:\n",
    "    res = requests.post(url, json.dumps(sensor), auth=conf['auth'])\n",
    "    if res.status_code == 200:\n",
    "        sensor['procedure_id'] = res.json()['message'].split('urn:ogc:def:sensor:x-istsos:1.0:')[1][:32]\n",
    "    else:\n",
    "        print(res.json())\n",
    "    print(sensor['procedure_id'])"
   ]
  },
  {
   "cell_type": "code",
   "execution_count": 3,
   "metadata": {},
   "outputs": [],
   "source": [
    "\n",
    "\n",
    "\n",
    "iusr = 'cron'\n",
    "ipws = 'vai8Quuc'\n",
    "\n",
    "from_istSOS = {\n",
    "    'service': 'https://geoservice.ist.supsi.ch/psos/sos',\n",
    "    'basic_auth': (iusr, ipws)\n",
    "}\n",
    "\n",
    "to_istSOS = {\n",
    "    'service': 'http://istsos.org/istsos/admin/demo',\n",
    "    'basic_auth': None\n",
    "}\n",
    "\n",
    "settings = {\n",
    "    'start_date': '1970-01-01T00:00:00',\n",
    "    'updateQualityIndex': True,\n",
    "    'filter_qilist': [200, 210, 220, 230, 320, 330],\n",
    "    'min_obs': 6*0.7,\n",
    "    'nan_qi': 100,\n",
    "    'nan_data': -999.9,\n",
    "    'closed': 'right',\n",
    "    'label': 'right',\n",
    "    'tz': '+01:00' ,\n",
    "    'forcePeriod': '2018-01-01T00:00:00+01:00/2020-01-01T00:00:00+01:00'\n",
    "}\n",
    "\n",
    "to_sensors = {\n",
    "    'Q_MAG_LOD': {\n",
    "        \"urn:ogc:def:parameter:x-istsos:1.0:river:water:discharge\": {\n",
    "            'origin_proc': 'Q_MAG_LOD',\n",
    "            'origin_obspro': 'urn:ogc:def:parameter:x-istsos:1.0:river:water:discharge',\n",
    "            'origin_agg_method': 'ave',\n",
    "            'origin_agg_freq': 'H'\n",
    "        }\n",
    "    },\n",
    "    'P_CAV': {\n",
    "        \"urn:ogc:def:parameter:x-istsos:1.0:meteo:air:rainfall\": {\n",
    "            'origin_proc': 'P_CAV',\n",
    "            'origin_obspro': 'urn:ogc:def:parameter:x-istsos:1.0:meteo:air:rainfall',\n",
    "            'origin_agg_method': 'sum',\n",
    "            'origin_agg_freq': 'H'\n",
    "        }\n",
    "    }\n",
    "}"
   ]
  },
  {
   "cell_type": "code",
   "execution_count": 4,
   "metadata": {},
   "outputs": [
    {
     "ename": "NameError",
     "evalue": "name 'sos2sos' is not defined",
     "output_type": "error",
     "traceback": [
      "\u001b[0;31m---------------------------------------------------------------------------\u001b[0m",
      "\u001b[0;31mNameError\u001b[0m                                 Traceback (most recent call last)",
      "\u001b[0;32m<ipython-input-4-e08977a0e6a4>\u001b[0m in \u001b[0;36m<module>\u001b[0;34m\u001b[0m\n\u001b[0;32m----> 1\u001b[0;31m \u001b[0msos2sos\u001b[0m\u001b[0;34m.\u001b[0m\u001b[0mistSOS2istSOS\u001b[0m\u001b[0;34m(\u001b[0m\u001b[0mfrom_istSOS\u001b[0m\u001b[0;34m,\u001b[0m \u001b[0mto_istSOS\u001b[0m\u001b[0;34m,\u001b[0m \u001b[0mto_sensors\u001b[0m\u001b[0;34m,\u001b[0m \u001b[0msettings\u001b[0m\u001b[0;34m,\u001b[0m \u001b[0;32mFalse\u001b[0m\u001b[0;34m,\u001b[0m \u001b[0;32mTrue\u001b[0m\u001b[0;34m)\u001b[0m\u001b[0;34m\u001b[0m\u001b[0;34m\u001b[0m\u001b[0m\n\u001b[0m",
      "\u001b[0;31mNameError\u001b[0m: name 'sos2sos' is not defined"
     ]
    }
   ],
   "source": [
    "sos2sos.istSOS2istSOS(from_istSOS, to_istSOS, to_sensors, settings, False, True)"
   ]
  },
  {
   "cell_type": "code",
   "execution_count": null,
   "metadata": {},
   "outputs": [],
   "source": [
    "SENSOR.ts_from_istsos(\n",
    "    service=conf['url'] + \"/\" + conf['service'],\n",
    "    observed_property=':{}'.format(observed_property_name.replace('-',':')),\n",
    "    procedure=procedure['name'],\n",
    "    basic_auth=None,\n",
    "    aggregate_function='AVG',\n",
    "    aggregate_interval='PT1H',\n",
    "    event_time = '2018-05-01T00:10:00+0100/2018-06-01T02:00:00+0200'\n",
    ")\n",
    "\n",
    "\n",
    "# upload data to demo\n"
   ]
  },
  {
   "cell_type": "code",
   "execution_count": 13,
   "metadata": {},
   "outputs": [],
   "source": []
  }
 ],
 "metadata": {
  "kernelspec": {
   "display_name": "Python 3",
   "language": "python",
   "name": "python3"
  },
  "language_info": {
   "codemirror_mode": {
    "name": "ipython",
    "version": 3
   },
   "file_extension": ".py",
   "mimetype": "text/x-python",
   "name": "python",
   "nbconvert_exporter": "python",
   "pygments_lexer": "ipython3",
   "version": "3.6.9"
  }
 },
 "nbformat": 4,
 "nbformat_minor": 4
}
