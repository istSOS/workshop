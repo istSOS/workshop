{
 "cells": [
  {
   "cell_type": "markdown",
   "metadata": {},
   "source": [
    "# How to work with istSOS\n",
    "## An example of basic data consistency checks"
   ]
  },
  {
   "cell_type": "markdown",
   "metadata": {},
   "source": [
    "In the next cell we are going to:\n",
    "\n",
    "* load the autoreload extension useful to keep update the external code library\n",
    "* activated the autoreload\n",
    "* activate the plot of graph directly inside jupyter"
   ]
  },
  {
   "cell_type": "code",
   "execution_count": null,
   "metadata": {},
   "outputs": [],
   "source": [
    "%load_ext autoreload\n",
    "%autoreload 2\n",
    "\n",
    "import sys\n",
    "import matplotlib\n",
    "%matplotlib inline\n",
    "\n",
    "try:\n",
    "    from oatlib import sensor, oat_utils\n",
    "except ImportError:\n",
    "    !pip install oatlib\n",
    "    from oatlib import sensor, oat_utils"
   ]
  },
  {
   "cell_type": "markdown",
   "metadata": {},
   "source": [
    "### ⚒ Now we load some other libraries needed by this notebook"
   ]
  },
  {
   "cell_type": "code",
   "execution_count": null,
   "metadata": {},
   "outputs": [],
   "source": [
    "import requests\n",
    "from dateutil import parser\n",
    "import matplotlib.pyplot as plt\n",
    "from statistics import stdev\n",
    "import json"
   ]
  },
  {
   "cell_type": "markdown",
   "metadata": {},
   "source": [
    "### ⚒ Set istSOS variables:"
   ]
  },
  {
   "cell_type": "code",
   "execution_count": null,
   "metadata": {},
   "outputs": [],
   "source": [
    "server = 'http://istsos.org/istsos'\n",
    "service = 'demo'\n",
    "user = None\n",
    "pwd = None"
   ]
  },
  {
   "cell_type": "markdown",
   "metadata": {},
   "source": [
    "### ⚒ List all the procedures"
   ]
  },
  {
   "cell_type": "code",
   "execution_count": null,
   "metadata": {},
   "outputs": [],
   "source": [
    "procedures = oat_utils.get_istSOS_Procedures(server, service, user, pwd)"
   ]
  },
  {
   "cell_type": "markdown",
   "metadata": {},
   "source": [
    "The variable procedures is now a **LIST** of **DICTIONARIES**.   \n",
    "Each object contains the information of a procedure such as:\n",
    "*sensortype, name, assignedid, offerings, id,\n",
    "samplingTime, observedproperties, description.*\n",
    "\n",
    "### ⚒ Let's print some information on procedures"
   ]
  },
  {
   "cell_type": "code",
   "execution_count": null,
   "metadata": {},
   "outputs": [],
   "source": [
    "print(f\"Number of the procedures fetched: {len(procedures)}\")\n",
    "print(f\"\\nKeys for each procedure: {procedures[0].keys()}\")\n",
    "print(f'\\nNames of the procedures fetched:')\n",
    "for procedure in procedures:\n",
    "    print('\\t' + procedure['name'])"
   ]
  },
  {
   "cell_type": "markdown",
   "metadata": {},
   "source": [
    "### ⚒ Now we are going to choose one procedure from the list above\n",
    "to retrieve the ***time_interval*** of the data and the observed properties"
   ]
  },
  {
   "cell_type": "code",
   "execution_count": null,
   "metadata": {},
   "outputs": [],
   "source": [
    "procedure = oat_utils.filter_procedures(procedures,'name','=','T_LUGANO')[0]\n",
    "procedure"
   ]
  },
  {
   "cell_type": "markdown",
   "metadata": {},
   "source": [
    "### ⚒ Take a look at the specific procedure properties"
   ]
  },
  {
   "cell_type": "code",
   "execution_count": null,
   "metadata": {},
   "outputs": [],
   "source": [
    "time_interval = '/'.join([\n",
    "                         procedure['samplingTime']['beginposition'],\n",
    "                         procedure['samplingTime']['endposition']\n",
    "                        ])\n",
    "\n",
    "print(f'Time interval: {time_interval}')\n",
    "\n",
    "# the variable observed_properties is a list of dict\n",
    "observed_properties = procedure['observedproperties']\n",
    "\n",
    "print(\n",
    "    '\\nNumber of observed properties for the procedure {}: {}'.format(\n",
    "        procedure['name'],\n",
    "        len(observed_properties)\n",
    "    )\n",
    ")\n",
    "\n",
    "print(\n",
    "    '\\nList of the observed properties: {}'.format(observed_properties)\n",
    ")\n",
    "\n",
    "\n"
   ]
  },
  {
   "cell_type": "markdown",
   "metadata": {},
   "source": [
    "### ⚒ Load data from *istSOS* using *OAT*:"
   ]
  },
  {
   "cell_type": "code",
   "execution_count": null,
   "metadata": {},
   "outputs": [],
   "source": [
    "event_time = '2018-05-01T00:10:00+0100/2018-06-01T02:00:00+0200'\n",
    "\n",
    "observed_property_name = observed_properties[0]['name']\n",
    "observed_property_uom = observed_properties[0]['uom']\n",
    "\n",
    "istsos_url = '{}/{}'.format(server, service)\n",
    "\n",
    "#basic_auth = (user, pwd)\n",
    "basic_auth = None\n",
    "\n",
    "SENSOR = sensor.Sensor.from_istsos(\n",
    "    service=istsos_url,\n",
    "    observed_property='temperature',\n",
    "    procedure=procedure['name']\n",
    ")"
   ]
  },
  {
   "cell_type": "markdown",
   "metadata": {},
   "source": [
    "### ⚒ See what SENSOR looks like --> it has the metadata automatically filled"
   ]
  },
  {
   "cell_type": "code",
   "execution_count": null,
   "metadata": {},
   "outputs": [],
   "source": [
    "SENSOR"
   ]
  },
  {
   "cell_type": "markdown",
   "metadata": {},
   "source": [
    "### ⚒ Now we gather the actual observations"
   ]
  },
  {
   "cell_type": "code",
   "execution_count": null,
   "metadata": {},
   "outputs": [],
   "source": [
    "SENSOR.ts_from_istsos(\n",
    "    service=istsos_url,\n",
    "    observed_property=':{}'.format(observed_property_name.replace('-',':')),\n",
    "    procedure=procedure['name'],\n",
    "    basic_auth=None,\n",
    "    # aggregate_function='AVG',\n",
    "    # aggregate_interval='PT10M',\n",
    "    event_time=event_time\n",
    ")\n",
    "SENSOR"
   ]
  },
  {
   "cell_type": "markdown",
   "metadata": {},
   "source": [
    "### ⚒ Plotting the TimeSeries"
   ]
  },
  {
   "cell_type": "code",
   "execution_count": null,
   "metadata": {},
   "outputs": [],
   "source": [
    "SENSOR.ts['data'].plot(legend=True, label=observed_property_name)\n",
    "plt.ylabel('{} ({})'.format(observed_property_name, observed_property_uom))\n",
    "plt.xlabel('Date')\n",
    "plt.show()"
   ]
  },
  {
   "cell_type": "markdown",
   "metadata": {},
   "source": [
    "## Quality check functions\n",
    "\n",
    "[Click me](./qc_aws.pdf)"
   ]
  },
  {
   "cell_type": "markdown",
   "metadata": {},
   "source": [
    "### ⚒ define the functions for quality checks"
   ]
  },
  {
   "cell_type": "code",
   "execution_count": null,
   "metadata": {},
   "outputs": [],
   "source": [
    "range_values = [-80, 60]\n",
    "\n",
    "# verify that data are within a plausible range for the observed variable\n",
    "def plausible_value_check( x, range_values):\n",
    "    if x >= range_values[0] and x <= range_values[1]:\n",
    "        return 300\n",
    "    else:\n",
    "        return False\n",
    "\n",
    "# verify that data changes in consecutive steps are within 4 sigma\n",
    "def time_consistency_check(x):\n",
    "    if len(x) == 3:\n",
    "        sum_abs_val = abs(x[1] - x[0]) + abs(x[1] - x[2])\n",
    "        four_std = 4*stdev(x)\n",
    "        if sum_abs_val <= four_std:\n",
    "            return 400\n",
    "        else:\n",
    "            return False\n",
    "    else:\n",
    "        return False"
   ]
  },
  {
   "cell_type": "markdown",
   "metadata": {},
   "source": [
    "### ⚒ apply the functions on a moving windows along the series and then update the series with the new indexes\n",
    "\n",
    "- rolling(T) applies a moving windows of T width\n",
    "- apply(X) applies to the moving window the function X"
   ]
  },
  {
   "cell_type": "code",
   "execution_count": null,
   "metadata": {},
   "outputs": [],
   "source": [
    "try:\n",
    "    ts_tmp = SENSOR.ts['data'].rolling(1).apply(lambda x: plausible_value_check(x, range_values), raw=True)\n",
    "    SENSOR.ts['quality'].update(ts_tmp.where(lambda x : x>0))\n",
    "    ts_tmp2 = SENSOR.ts['data'].rolling('1440s').apply(lambda x: time_consistency_check(x), raw=True)\n",
    "    SENSOR.ts['quality'].update(ts_tmp2.where(lambda x : x>0))\n",
    "    print(\"Data checked.\")\n",
    "except:\n",
    "    print(\"Can't check data.\")"
   ]
  },
  {
   "cell_type": "markdown",
   "metadata": {},
   "source": [
    "### ⚒ Uploading data to istSOS."
   ]
  },
  {
   "cell_type": "code",
   "execution_count": null,
   "metadata": {},
   "outputs": [],
   "source": [
    "oat_utils.sensors_to_istsos(\n",
    "    service=istsos_url,\n",
    "    procedure=procedure['name'],\n",
    "    obspro_sensor={'urn:ogc:def:parameter:x-istsos:1.0:meteo:air:temperature': SENSOR},\n",
    "    how_merge='left'\n",
    ")\n",
    "\n",
    "print('Data loaded. Check istSOS.')"
   ]
  },
  {
   "cell_type": "markdown",
   "metadata": {},
   "source": [
    "### ⚒ Filter values with QI == 400"
   ]
  },
  {
   "cell_type": "code",
   "execution_count": null,
   "metadata": {},
   "outputs": [],
   "source": [
    "SENSOR_400 = SENSOR.copy()\n",
    "SENSOR_400.ts = SENSOR.ts[SENSOR.ts['quality'] == 400]\n",
    "\n",
    "SENSOR_400.ts"
   ]
  },
  {
   "cell_type": "markdown",
   "metadata": {},
   "source": [
    "### ⚒ Calculate statistics"
   ]
  },
  {
   "cell_type": "code",
   "execution_count": null,
   "metadata": {},
   "outputs": [],
   "source": [
    "MAX_COL = 'T_MAX'\n",
    "TIME_MAX_COL = 'TIME_' + MAX_COL\n",
    "MIN_COL = 'T_MIN'\n",
    "TIME_MIN_COL = 'TIME_' + MIN_COL\n",
    "MEAN_COL = 'T_MEAN'\n",
    "COUNT = '{}_COUNT'.format(MEAN_COL)\n",
    "\n",
    "daily_max = oat_utils.sensorStats(\n",
    "    SENSOR_400, stat='max',\n",
    "    column_name=MAX_COL\n",
    ")\n",
    "daily_min = oat_utils.sensorStats(\n",
    "    SENSOR_400, stat='min',\n",
    "    column_name=MIN_COL\n",
    ")\n",
    "daily_mean = oat_utils.sensorStats(\n",
    "    SENSOR_400, stat='mean',\n",
    "    column_name=MEAN_COL\n",
    ")"
   ]
  },
  {
   "cell_type": "code",
   "execution_count": null,
   "metadata": {},
   "outputs": [],
   "source": [
    "daily_max"
   ]
  },
  {
   "cell_type": "code",
   "execution_count": null,
   "metadata": {},
   "outputs": [],
   "source": [
    "daily_min"
   ]
  },
  {
   "cell_type": "markdown",
   "metadata": {},
   "source": [
    "### ⚒ calculate completness"
   ]
  },
  {
   "cell_type": "code",
   "execution_count": null,
   "metadata": {},
   "outputs": [],
   "source": [
    "daily_mean.ts['Completeness (%)'] = daily_mean.ts['T_MEAN_COUNT'] / 144*100\n",
    "daily_mean"
   ]
  },
  {
   "cell_type": "markdown",
   "metadata": {},
   "source": [
    "⚒  plot the series"
   ]
  },
  {
   "cell_type": "code",
   "execution_count": null,
   "metadata": {},
   "outputs": [],
   "source": [
    "daily_mean.ts['T_MEAN'].plot(legend=True, label='T_MEAN (celsius)')"
   ]
  },
  {
   "cell_type": "code",
   "execution_count": null,
   "metadata": {},
   "outputs": [],
   "source": [
    "daily_mean.ts['Completeness (%)'].plot(legend=True, label='Completeness (%)')"
   ]
  },
  {
   "cell_type": "code",
   "execution_count": null,
   "metadata": {},
   "outputs": [],
   "source": []
  }
 ],
 "metadata": {
  "kernelspec": {
   "display_name": "Python 3",
   "language": "python",
   "name": "python3"
  },
  "language_info": {
   "codemirror_mode": {
    "name": "ipython",
    "version": 3
   },
   "file_extension": ".py",
   "mimetype": "text/x-python",
   "name": "python",
   "nbconvert_exporter": "python",
   "pygments_lexer": "ipython3",
   "version": "3.6.9"
  }
 },
 "nbformat": 4,
 "nbformat_minor": 4
}