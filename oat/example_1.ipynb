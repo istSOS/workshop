{
 "cells": [
  {
   "cell_type": "markdown",
   "metadata": {},
   "source": [
    "# How to work with istSOS\n",
    "## An example of basic data consistency checks"
   ]
  },
  {
   "cell_type": "markdown",
   "metadata": {},
   "source": [
    "In the next cell we are going to:\n",
    "\n",
    "* load the autoreload extension useful to keep update the external code library\n",
    "* activated the autoreload\n",
    "* activate the plot of graph directly inside jupyter"
   ]
  },
  {
   "cell_type": "code",
   "execution_count": 1,
   "metadata": {},
   "outputs": [
    {
     "name": "stdout",
     "output_type": "stream",
     "text": [
      "Collecting oatlib==0.0.7rc1\n",
      "  Using cached oatlib-0.0.7rc1-py3-none-any.whl (45 kB)\n",
      "Requirement already satisfied: scipy in /home/maxi/GIT/istSOS_2.4.0_workshop_mexico_2020/venv/lib/python3.8/site-packages (from oatlib==0.0.7rc1) (1.4.1)\n",
      "Requirement already satisfied: pandas in /home/maxi/GIT/istSOS_2.4.0_workshop_mexico_2020/venv/lib/python3.8/site-packages (from oatlib==0.0.7rc1) (1.0.1)\n",
      "Requirement already satisfied: dateutils in /home/maxi/GIT/istSOS_2.4.0_workshop_mexico_2020/venv/lib/python3.8/site-packages (from oatlib==0.0.7rc1) (0.6.7)\n",
      "Requirement already satisfied: numpy in /home/maxi/GIT/istSOS_2.4.0_workshop_mexico_2020/venv/lib/python3.8/site-packages (from oatlib==0.0.7rc1) (1.18.1)\n",
      "Requirement already satisfied: spatialite in /home/maxi/GIT/istSOS_2.4.0_workshop_mexico_2020/venv/lib/python3.8/site-packages (from oatlib==0.0.7rc1) (0.0.3)\n",
      "Requirement already satisfied: requests in /home/maxi/GIT/istSOS_2.4.0_workshop_mexico_2020/venv/lib/python3.8/site-packages (from oatlib==0.0.7rc1) (2.22.0)\n",
      "Requirement already satisfied: isodate in /home/maxi/GIT/istSOS_2.4.0_workshop_mexico_2020/venv/lib/python3.8/site-packages (from oatlib==0.0.7rc1) (0.6.0)\n",
      "Requirement already satisfied: datetime in /home/maxi/GIT/istSOS_2.4.0_workshop_mexico_2020/venv/lib/python3.8/site-packages (from oatlib==0.0.7rc1) (4.3)\n",
      "Requirement already satisfied: pytz>=2017.2 in /home/maxi/GIT/istSOS_2.4.0_workshop_mexico_2020/venv/lib/python3.8/site-packages (from pandas->oatlib==0.0.7rc1) (2019.3)\n",
      "Requirement already satisfied: python-dateutil>=2.6.1 in /home/maxi/GIT/istSOS_2.4.0_workshop_mexico_2020/venv/lib/python3.8/site-packages (from pandas->oatlib==0.0.7rc1) (2.8.1)\n",
      "Requirement already satisfied: argparse in /home/maxi/GIT/istSOS_2.4.0_workshop_mexico_2020/venv/lib/python3.8/site-packages (from dateutils->oatlib==0.0.7rc1) (1.4.0)\n",
      "Requirement already satisfied: six in /home/maxi/GIT/istSOS_2.4.0_workshop_mexico_2020/venv/lib/python3.8/site-packages (from isodate->oatlib==0.0.7rc1) (1.14.0)\n",
      "Requirement already satisfied: zope.interface in /home/maxi/GIT/istSOS_2.4.0_workshop_mexico_2020/venv/lib/python3.8/site-packages (from datetime->oatlib==0.0.7rc1) (4.7.1)\n",
      "Requirement already satisfied: setuptools in /home/maxi/GIT/istSOS_2.4.0_workshop_mexico_2020/venv/lib/python3.8/site-packages (from zope.interface->datetime->oatlib==0.0.7rc1) (44.0.0)\n",
      "Installing collected packages: oatlib\n",
      "  Attempting uninstall: oatlib\n",
      "    Found existing installation: oatlib 0.0.6rc2\n",
      "    Uninstalling oatlib-0.0.6rc2:\n",
      "      Successfully uninstalled oatlib-0.0.6rc2\n",
      "Successfully installed oatlib-0.0.7rc1\n"
     ]
    }
   ],
   "source": [
    "%load_ext autoreload\n",
    "%autoreload 2\n",
    "\n",
    "import sys\n",
    "import matplotlib\n",
    "%matplotlib inline\n",
    "\n",
    "!pip install oatlib==0.0.7rc1\n",
    "\n",
    "try:\n",
    "    from oatlib import sensor, oat_utils\n",
    "except ImportError:\n",
    "    !pip install oatlib\n",
    "    from oatlib import sensor, oat_utils"
   ]
  },
  {
   "cell_type": "markdown",
   "metadata": {},
   "source": [
    "### ⚒ Now we load some other libraries needed by this notebook"
   ]
  },
  {
   "cell_type": "code",
   "execution_count": 2,
   "metadata": {},
   "outputs": [],
   "source": [
    "import requests\n",
    "from dateutil import parser\n",
    "import matplotlib.pyplot as plt\n",
    "from statistics import stdev\n",
    "import json"
   ]
  },
  {
   "cell_type": "markdown",
   "metadata": {},
   "source": [
    "### ⚒ Set istSOS variables:"
   ]
  },
  {
   "cell_type": "code",
   "execution_count": 4,
   "metadata": {},
   "outputs": [],
   "source": [
    "server = 'http://istsos.org/istsos'\n",
    "service = 'hydro'\n",
    "user = None\n",
    "pwd = None"
   ]
  },
  {
   "cell_type": "markdown",
   "metadata": {},
   "source": [
    "### ⚒ List all the procedures"
   ]
  },
  {
   "cell_type": "code",
   "execution_count": 5,
   "metadata": {},
   "outputs": [],
   "source": [
    "procedures = oat_utils.get_istSOS_Procedures(server, service, user, pwd)"
   ]
  },
  {
   "cell_type": "markdown",
   "metadata": {},
   "source": [
    "The variable procedures is now a **LIST** of **DICTIONARIES**.   \n",
    "Each object contains the information of a procedure such as:\n",
    "*sensortype, name, assignedid, offerings, id,\n",
    "samplingTime, observedproperties, description.*\n",
    "\n",
    "### ⚒ Let's print some information on procedures"
   ]
  },
  {
   "cell_type": "code",
   "execution_count": 6,
   "metadata": {},
   "outputs": [
    {
     "name": "stdout",
     "output_type": "stream",
     "text": [
      "Number of the procedures fetched: 3\n",
      "\n",
      "Keys for each procedure: dict_keys(['id', 'name', 'description', 'assignedid', 'sensortype', 'samplingTime', 'observedproperties', 'offerings'])\n",
      "\n",
      "Names of the procedures fetched:\n",
      "\tP_CAV\n",
      "\tQ_MAG_LOD\n",
      "\tT_CAV\n"
     ]
    }
   ],
   "source": [
    "print(f\"Number of the procedures fetched: {len(procedures)}\")\n",
    "print(f\"\\nKeys for each procedure: {procedures[0].keys()}\")\n",
    "print(f'\\nNames of the procedures fetched:')\n",
    "for procedure in procedures:\n",
    "    print('\\t' + procedure['name'])"
   ]
  },
  {
   "cell_type": "markdown",
   "metadata": {},
   "source": [
    "### ⚒ Now we are going to choose one procedure from the list above\n",
    "to retrieve the ***time_interval*** of the data and the observed properties"
   ]
  },
  {
   "cell_type": "code",
   "execution_count": 9,
   "metadata": {},
   "outputs": [
    {
     "data": {
      "text/plain": [
       "{'id': 1,\n",
       " 'name': 'T_CAV',\n",
       " 'description': None,\n",
       " 'assignedid': '28e70565c24f11ec91980242c0a8f003',\n",
       " 'sensortype': 'insitu-fixed-point',\n",
       " 'samplingTime': {'beginposition': '2019-01-01T01:10:00+0100',\n",
       "  'endposition': '2020-01-01T00:00:00+0100'},\n",
       " 'observedproperties': [{'name': 'air-temperature', 'uom': '°C'}],\n",
       " 'offerings': ['temporary']}"
      ]
     },
     "execution_count": 9,
     "metadata": {},
     "output_type": "execute_result"
    }
   ],
   "source": [
    "procedure = oat_utils.filter_procedures(procedures,'name','=','T_CAV')[0]\n",
    "procedure"
   ]
  },
  {
   "cell_type": "markdown",
   "metadata": {},
   "source": [
    "### ⚒ Take a look at the specific procedure properties"
   ]
  },
  {
   "cell_type": "code",
   "execution_count": 10,
   "metadata": {},
   "outputs": [
    {
     "name": "stdout",
     "output_type": "stream",
     "text": [
      "Time interval: 2019-01-01T01:10:00+0100/2020-01-01T00:00:00+0100\n",
      "\n",
      "Number of observed properties for the procedure T_CAV: 1\n",
      "\n",
      "List of the observed properties: [{'name': 'air-temperature', 'uom': '°C'}]\n"
     ]
    }
   ],
   "source": [
    "time_interval = '/'.join([\n",
    "                         procedure['samplingTime']['beginposition'],\n",
    "                         procedure['samplingTime']['endposition']\n",
    "                        ])\n",
    "\n",
    "print(f'Time interval: {time_interval}')\n",
    "\n",
    "# the variable observed_properties is a list of dict\n",
    "observed_properties = procedure['observedproperties']\n",
    "\n",
    "print(\n",
    "    '\\nNumber of observed properties for the procedure {}: {}'.format(\n",
    "        procedure['name'],\n",
    "        len(observed_properties)\n",
    "    )\n",
    ")\n",
    "\n",
    "print(\n",
    "    '\\nList of the observed properties: {}'.format(observed_properties)\n",
    ")\n",
    "\n",
    "\n"
   ]
  },
  {
   "cell_type": "markdown",
   "metadata": {},
   "source": [
    "### ⚒ Load data from *istSOS* using *OAT*:"
   ]
  },
  {
   "cell_type": "code",
   "execution_count": 18,
   "metadata": {},
   "outputs": [],
   "source": [
    "event_time = '2019-05-01T00:10:00+0100/2019-06-01T02:00:00+0200'\n",
    "\n",
    "observed_property_name = observed_properties[0]['name']\n",
    "observed_property_uom = observed_properties[0]['uom']\n",
    "\n",
    "istsos_url = '{}/{}'.format(server, service)\n",
    "\n",
    "#basic_auth = (user, pwd)\n",
    "basic_auth = None\n",
    "\n",
    "SENSOR = sensor.Sensor.from_istsos(\n",
    "    service=istsos_url,\n",
    "    observed_property='temperature',\n",
    "    procedure=procedure['name'],\n",
    "    verifySSL=True\n",
    ")"
   ]
  },
  {
   "cell_type": "markdown",
   "metadata": {},
   "source": [
    "### ⚒ See what SENSOR looks like --> it has the metadata automatically filled"
   ]
  },
  {
   "cell_type": "code",
   "execution_count": 19,
   "metadata": {},
   "outputs": [
    {
     "data": {
      "text/plain": [
       "name: T_CAV\n",
       "desc: Cavergno\n",
       "lat: 133073.0\n",
       "lon: 690081.0\n",
       "alt: 455.0\n",
       "tz: 0\n",
       "unit: b'\\xc2\\xb0C'\n",
       "prop: temperature\n",
       "freq: None\n",
       "statflag: None\n",
       "use: True\n",
       "data_availability: ['2019-01-01T00:10:00.000000Z', '2019-12-31T23:00:00.000000Z']\n",
       "ts: None"
      ]
     },
     "execution_count": 19,
     "metadata": {},
     "output_type": "execute_result"
    }
   ],
   "source": [
    "SENSOR"
   ]
  },
  {
   "cell_type": "markdown",
   "metadata": {},
   "source": [
    "### ⚒ Now we gather the actual observations"
   ]
  },
  {
   "cell_type": "code",
   "execution_count": 20,
   "metadata": {},
   "outputs": [
    {
     "data": {
      "text/plain": [
       "name: T_CAV\n",
       "desc: Cavergno\n",
       "lat: 133073.0\n",
       "lon: 690081.0\n",
       "alt: 455.0\n",
       "tz: +01:00\n",
       "unit: b'\\xc2\\xb0C'\n",
       "prop: temperature\n",
       "freq: None\n",
       "statflag: None\n",
       "use: True\n",
       "data_availability: ['2019-04-30T23:20:00.000000000', '2019-06-01T00:00:00.000000000']\n",
       "ts:                             data  quality\n",
       "time                                     \n",
       "2019-05-01 00:20:00+01:00  10.54      210\n",
       "2019-05-01 00:30:00+01:00  10.37      210\n",
       "...                          ...      ...\n",
       "2019-06-01 00:50:00+01:00  13.83      210\n",
       "2019-06-01 01:00:00+01:00  13.39      210\n",
       "\n",
       "[4469 rows x 2 columns]"
      ]
     },
     "execution_count": 20,
     "metadata": {},
     "output_type": "execute_result"
    }
   ],
   "source": [
    "SENSOR.ts_from_istsos(\n",
    "    service=istsos_url,\n",
    "    observed_property=':{}'.format(observed_property_name.replace('-',':')),\n",
    "    procedure=procedure['name'],\n",
    "    basic_auth=None,\n",
    "    # aggregate_function='AVG',\n",
    "    # aggregate_interval='PT10M',\n",
    "    event_time=event_time\n",
    ")\n",
    "SENSOR"
   ]
  },
  {
   "cell_type": "markdown",
   "metadata": {},
   "source": [
    "### ⚒ Plotting the TimeSeries"
   ]
  },
  {
   "cell_type": "code",
   "execution_count": 21,
   "metadata": {},
   "outputs": [
    {
     "data": {
      "image/png": "[encoded data removed]",
      "text/plain": [
       "<Figure size 432x288 with 1 Axes>"
      ]
     },
     "metadata": {
      "needs_background": "light"
     },
     "output_type": "display_data"
    }
   ],
   "source": [
    "SENSOR.ts['data'].plot(legend=True, label=observed_property_name)\n",
    "plt.ylabel('{} ({})'.format(observed_property_name, observed_property_uom))\n",
    "plt.xlabel('Date')\n",
    "plt.show()"
   ]
  },
  {
   "cell_type": "markdown",
   "metadata": {},
   "source": [
    "## Quality check functions\n",
    "\n",
    "[Click me](./qc_aws.pdf)"
   ]
  },
  {
   "cell_type": "markdown",
   "metadata": {},
   "source": [
    "### ⚒ define the functions for quality checks"
   ]
  },
  {
   "cell_type": "code",
   "execution_count": 22,
   "metadata": {},
   "outputs": [],
   "source": [
    "range_values = [-80, 60]\n",
    "\n",
    "# verify that data are within a plausible range for the observed variable\n",
    "# ranege_values: a list of 2 values that defines the interval\n",
    "def plausible_value_check( x, range_values):\n",
    "    if x >= range_values[0] and x <= range_values[1]:\n",
    "        return 300\n",
    "    else:\n",
    "        return False\n",
    "\n",
    "# verify that data changes in consecutive steps are within 4 sigma\n",
    "# x: a list of 3 consecutive values and the central value is the one \n",
    "# to be evaluated\n",
    "def time_consistency_check(x):\n",
    "    if len(x) == 3:\n",
    "        sum_abs_val = abs(x[1] - x[0]) + abs(x[1] - x[2])\n",
    "        four_std = 4*stdev(x)\n",
    "        if sum_abs_val <= four_std:\n",
    "            return 400\n",
    "        else:\n",
    "            return False\n",
    "    else:\n",
    "        return False"
   ]
  },
  {
   "cell_type": "markdown",
   "metadata": {},
   "source": [
    "### ⚒ apply the functions on a moving windows along the series and then update the series with the new indexes\n",
    "\n",
    "- rolling(T) applies a moving windows of T width\n",
    "- apply(X) applies to the moving window the function X"
   ]
  },
  {
   "cell_type": "code",
   "execution_count": 23,
   "metadata": {},
   "outputs": [
    {
     "name": "stdout",
     "output_type": "stream",
     "text": [
      "Data checked.\n"
     ]
    }
   ],
   "source": [
    "try:\n",
    "    ts_tmp = SENSOR.ts['data'].rolling(1).apply(lambda x: plausible_value_check(x, range_values), raw=True)\n",
    "    SENSOR.ts['quality'].update(ts_tmp.where(lambda x : x>0))\n",
    "    ts_tmp2 = SENSOR.ts['data'].rolling('1440s').apply(lambda x: time_consistency_check(x), raw=True)\n",
    "    SENSOR.ts['quality'].update(ts_tmp2.where(lambda x : x>0))\n",
    "    print(\"Data checked.\")\n",
    "except:\n",
    "    print(\"Can't check data.\")"
   ]
  },
  {
   "cell_type": "markdown",
   "metadata": {},
   "source": [
    "### ⚒ Filter values with QI == 400"
   ]
  },
  {
   "cell_type": "code",
   "execution_count": 24,
   "metadata": {},
   "outputs": [
    {
     "data": {
      "text/html": [
       "<div>\n",
       "<style scoped>\n",
       "    .dataframe tbody tr th:only-of-type {\n",
       "        vertical-align: middle;\n",
       "    }\n",
       "\n",
       "    .dataframe tbody tr th {\n",
       "        vertical-align: top;\n",
       "    }\n",
       "\n",
       "    .dataframe thead th {\n",
       "        text-align: right;\n",
       "    }\n",
       "</style>\n",
       "<table border=\"1\" class=\"dataframe\">\n",
       "  <thead>\n",
       "    <tr style=\"text-align: right;\">\n",
       "      <th></th>\n",
       "      <th>data</th>\n",
       "      <th>quality</th>\n",
       "    </tr>\n",
       "    <tr>\n",
       "      <th>time</th>\n",
       "      <th></th>\n",
       "      <th></th>\n",
       "    </tr>\n",
       "  </thead>\n",
       "  <tbody>\n",
       "    <tr>\n",
       "      <th>2019-05-01 00:40:00+01:00</th>\n",
       "      <td>10.20</td>\n",
       "      <td>400</td>\n",
       "    </tr>\n",
       "    <tr>\n",
       "      <th>2019-05-01 00:50:00+01:00</th>\n",
       "      <td>10.04</td>\n",
       "      <td>400</td>\n",
       "    </tr>\n",
       "    <tr>\n",
       "      <th>...</th>\n",
       "      <td>...</td>\n",
       "      <td>...</td>\n",
       "    </tr>\n",
       "    <tr>\n",
       "      <th>2019-06-01 00:50:00+01:00</th>\n",
       "      <td>13.83</td>\n",
       "      <td>400</td>\n",
       "    </tr>\n",
       "    <tr>\n",
       "      <th>2019-06-01 01:00:00+01:00</th>\n",
       "      <td>13.39</td>\n",
       "      <td>400</td>\n",
       "    </tr>\n",
       "  </tbody>\n",
       "</table>\n",
       "<p>4442 rows × 2 columns</p>\n",
       "</div>"
      ],
      "text/plain": [
       "                            data  quality\n",
       "time                                     \n",
       "2019-05-01 00:40:00+01:00  10.20      400\n",
       "2019-05-01 00:50:00+01:00  10.04      400\n",
       "...                          ...      ...\n",
       "2019-06-01 00:50:00+01:00  13.83      400\n",
       "2019-06-01 01:00:00+01:00  13.39      400\n",
       "\n",
       "[4442 rows x 2 columns]"
      ]
     },
     "execution_count": 24,
     "metadata": {},
     "output_type": "execute_result"
    }
   ],
   "source": [
    "SENSOR_400 = SENSOR.copy()\n",
    "SENSOR_400.ts = SENSOR.ts[SENSOR.ts['quality'] == 400]\n",
    "\n",
    "SENSOR_400.ts"
   ]
  },
  {
   "cell_type": "markdown",
   "metadata": {},
   "source": [
    "### ⚒ Calculate statistics"
   ]
  },
  {
   "cell_type": "code",
   "execution_count": 27,
   "metadata": {},
   "outputs": [
    {
     "name": "stderr",
     "output_type": "stream",
     "text": [
      "/home/maxi/GIT/istSOS_2.4.0_workshop_mexico_2020/venv/lib/python3.8/site-packages/pandas/core/indexing.py:844: SettingWithCopyWarning: \n",
      "A value is trying to be set on a copy of a slice from a DataFrame.\n",
      "Try using .loc[row_indexer,col_indexer] = value instead\n",
      "\n",
      "See the caveats in the documentation: https://pandas.pydata.org/pandas-docs/stable/user_guide/indexing.html#returning-a-view-versus-a-copy\n",
      "  self.obj[key] = _infer_fill_value(value)\n",
      "/home/maxi/GIT/istSOS_2.4.0_workshop_mexico_2020/venv/lib/python3.8/site-packages/pandas/core/indexing.py:965: SettingWithCopyWarning: \n",
      "A value is trying to be set on a copy of a slice from a DataFrame.\n",
      "Try using .loc[row_indexer,col_indexer] = value instead\n",
      "\n",
      "See the caveats in the documentation: https://pandas.pydata.org/pandas-docs/stable/user_guide/indexing.html#returning-a-view-versus-a-copy\n",
      "  self.obj[item] = s\n"
     ]
    }
   ],
   "source": [
    "MAX_COL = 'T_MAX'\n",
    "TIME_MAX_COL = 'TIME_' + MAX_COL\n",
    "MIN_COL = 'T_MIN'\n",
    "TIME_MIN_COL = 'TIME_' + MIN_COL\n",
    "MEAN_COL = 'T_MEAN'\n",
    "COUNT = '{}_COUNT'.format(MEAN_COL)\n",
    "\n",
    "daily_max = oat_utils.sensorStats(\n",
    "    SENSOR_400, \n",
    "    frequency= 'D',\n",
    "    stat='max',\n",
    "    column_name=MAX_COL\n",
    ")\n",
    "daily_min = oat_utils.sensorStats(\n",
    "    SENSOR_400, \n",
    "    frequency= 'D',\n",
    "    stat='min',\n",
    "    column_name=MIN_COL\n",
    ")\n",
    "daily_mean = oat_utils.sensorStats(\n",
    "    SENSOR_400,\n",
    "    frequency= 'D',\n",
    "    stat='mean',\n",
    "    column_name=MEAN_COL\n",
    ")"
   ]
  },
  {
   "cell_type": "code",
   "execution_count": 28,
   "metadata": {},
   "outputs": [
    {
     "data": {
      "text/plain": [
       "name: T_CAV\n",
       "desc: Cavergno\n",
       "lat: 133073.0\n",
       "lon: 690081.0\n",
       "alt: 455.0\n",
       "tz: +01:00\n",
       "unit: b'\\xc2\\xb0C'\n",
       "prop: temperature\n",
       "freq: D\n",
       "statflag: None\n",
       "use: True\n",
       "data_availability: ['2019-04-30T23:20:00.000000000', '2019-06-01T00:00:00.000000000']\n",
       "ts:                            T_MAX quality                 TIME_T_MAX\n",
       "2019-05-01 00:00:00+01:00  23.78     400  2019-05-01 14:50:00+01:00\n",
       "2019-05-02 00:00:00+01:00  19.09     400  2019-05-02 11:00:00+01:00\n",
       "...                          ...     ...                        ...\n",
       "2019-05-31 00:00:00+01:00  23.18     400  2019-05-31 16:20:00+01:00\n",
       "2019-06-01 00:00:00+01:00  13.92     400  2019-06-01 00:10:00+01:00\n",
       "\n",
       "[32 rows x 3 columns]"
      ]
     },
     "execution_count": 28,
     "metadata": {},
     "output_type": "execute_result"
    }
   ],
   "source": [
    "daily_max"
   ]
  },
  {
   "cell_type": "code",
   "execution_count": 29,
   "metadata": {},
   "outputs": [
    {
     "data": {
      "text/plain": [
       "name: T_CAV\n",
       "desc: Cavergno\n",
       "lat: 133073.0\n",
       "lon: 690081.0\n",
       "alt: 455.0\n",
       "tz: +01:00\n",
       "unit: b'\\xc2\\xb0C'\n",
       "prop: temperature\n",
       "freq: D\n",
       "statflag: None\n",
       "use: True\n",
       "data_availability: ['2019-04-30T23:20:00.000000000', '2019-06-01T00:00:00.000000000']\n",
       "ts:                             T_MIN quality                 TIME_T_MIN\n",
       "2019-05-01 00:00:00+01:00   4.744     400  2019-05-01 05:30:00+01:00\n",
       "2019-05-02 00:00:00+01:00   6.632     400  2019-05-02 23:50:00+01:00\n",
       "...                           ...     ...                        ...\n",
       "2019-05-31 00:00:00+01:00   9.450     400  2019-05-31 05:10:00+01:00\n",
       "2019-06-01 00:00:00+01:00  13.230     400  2019-06-01 00:20:00+01:00\n",
       "\n",
       "[32 rows x 3 columns]"
      ]
     },
     "execution_count": 29,
     "metadata": {},
     "output_type": "execute_result"
    }
   ],
   "source": [
    "daily_min"
   ]
  },
  {
   "cell_type": "markdown",
   "metadata": {},
   "source": [
    "### ⚒ calculate completness"
   ]
  },
  {
   "cell_type": "code",
   "execution_count": 31,
   "metadata": {},
   "outputs": [
    {
     "data": {
      "text/plain": [
       "name: T_CAV\n",
       "desc: Cavergno\n",
       "lat: 133073.0\n",
       "lon: 690081.0\n",
       "alt: 455.0\n",
       "tz: +01:00\n",
       "unit: b'\\xc2\\xb0C'\n",
       "prop: temperature\n",
       "freq: D\n",
       "statflag: None\n",
       "use: True\n",
       "data_availability: ['2019-04-30T23:20:00.000000000', '2019-06-01T00:00:00.000000000']\n",
       "ts:                               T_MEAN  T_MEAN_COUNT  Completeness (%)\n",
       "time                                                                \n",
       "2019-05-01 00:00:00+01:00  13.659429           140         97.222222\n",
       "2019-05-02 00:00:00+01:00  11.044090           144        100.000000\n",
       "...                              ...           ...               ...\n",
       "2019-05-31 00:00:00+01:00  16.288194           144        100.000000\n",
       "2019-06-01 00:00:00+01:00  13.677143             7          4.861111\n",
       "\n",
       "[32 rows x 3 columns]"
      ]
     },
     "execution_count": 31,
     "metadata": {},
     "output_type": "execute_result"
    }
   ],
   "source": [
    "daily_mean.ts['Completeness (%)'] = daily_mean.ts['T_MEAN_COUNT'] / (6*24)*100\n",
    "daily_mean"
   ]
  },
  {
   "cell_type": "markdown",
   "metadata": {},
   "source": [
    "⚒  plot the series"
   ]
  },
  {
   "cell_type": "code",
   "execution_count": 32,
   "metadata": {},
   "outputs": [
    {
     "data": {
      "text/plain": [
       "<matplotlib.axes._subplots.AxesSubplot at 0x7f13bbf20d60>"
      ]
     },
     "execution_count": 32,
     "metadata": {},
     "output_type": "execute_result"
    },
    {
     "data": {
      "image/png": "[encoded data removed]",
      "text/plain": [
       "<Figure size 432x288 with 1 Axes>"
      ]
     },
     "metadata": {
      "needs_background": "light"
     },
     "output_type": "display_data"
    }
   ],
   "source": [
    "daily_mean.ts['T_MEAN'].plot(legend=True, label='T_MEAN (celsius)')"
   ]
  },
  {
   "cell_type": "code",
   "execution_count": 33,
   "metadata": {},
   "outputs": [
    {
     "data": {
      "text/plain": [
       "<matplotlib.axes._subplots.AxesSubplot at 0x7f13bc5a6c40>"
      ]
     },
     "execution_count": 33,
     "metadata": {},
     "output_type": "execute_result"
    },
    {
     "data": {
      "image/png": "[encoded data removed]",
      "text/plain": [
       "<Figure size 432x288 with 1 Axes>"
      ]
     },
     "metadata": {
      "needs_background": "light"
     },
     "output_type": "display_data"
    }
   ],
   "source": [
    "daily_mean.ts['Completeness (%)'].plot(legend=True, label='Completeness (%)')"
   ]
  },
  {
   "cell_type": "code",
   "execution_count": null,
   "metadata": {},
   "outputs": [],
   "source": []
  }
 ],
 "metadata": {
  "kernelspec": {
   "display_name": "Python 3",
   "language": "python",
   "name": "python3"
  },
  "language_info": {
   "codemirror_mode": {
    "name": "ipython",
    "version": 3
   },
   "file_extension": ".py",
   "mimetype": "text/x-python",
   "name": "python",
   "nbconvert_exporter": "python",
   "pygments_lexer": "ipython3",
   "version": "3.8.10"
  }
 },
 "nbformat": 4,
 "nbformat_minor": 4
}
