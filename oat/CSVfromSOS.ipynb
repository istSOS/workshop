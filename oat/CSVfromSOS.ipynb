{
 "cells": [
  {
   "cell_type": "markdown",
   "metadata": {},
   "source": [
    "# Example for data retrieving from istSOS and saving to file"
   ]
  },
  {
   "cell_type": "code",
   "execution_count": null,
   "metadata": {},
   "outputs": [],
   "source": [
    "#magic import of OAT for DEVEL\n",
    "import sys\n",
    "sys.path.insert(0, \"/home/maxi/GIT/OAT\")\n",
    "import oatlib"
   ]
  },
  {
   "cell_type": "code",
   "execution_count": null,
   "metadata": {},
   "outputs": [],
   "source": [
    "import requests\n",
    "import json\n",
    "from oatlib import sensor, method, oat_utils\n",
    "from dateutil import parser\n",
    "import matplotlib.pyplot as plt\n",
    "from statistics import stdev\n",
    "\n",
    "from dateutil import parser, relativedelta\n",
    "from datetime import datetime, tzinfo, timedelta\n",
    "import dateutil\n"
   ]
  },
  {
   "cell_type": "code",
   "execution_count": null,
   "metadata": {},
   "outputs": [],
   "source": [
    "server = 'https://geoservice.ist.supsi.ch/psos'\n",
    "service = 'sos'\n",
    "user = 'daniele.strigaro@supsi.ch'\n",
    "pwd = 'n6g846'"
   ]
  },
  {
   "cell_type": "code",
   "execution_count": null,
   "metadata": {},
   "outputs": [],
   "source": [
    "procedure = 'P_ISO'\n",
    "\n",
    "event_time = '2004-02-11T01:00:00+0200/2019-09-12T15:00:00+0200'\n",
    "#event_time = '2019-07-05T11:20:00+0100/2019-09-06T14:00:00+0100'\n",
    "#event_time = '2006-10-06T\n",
    "\n",
    "observed_property_name = 'water-height'\n",
    "observed_property_uom = 'm'\n",
    "\n",
    "istsos_url = f'{server}/{service}'\n",
    "istsos_auth = (user, pwd)\n",
    "\n",
    "SENSOR = sensor.Sensor.from_istsos(\n",
    "    service=istsos_url,\n",
    "    observed_property='rain',\n",
    "    procedure=procedure,\n",
    "    basic_auth=istsos_auth\n",
    ")"
   ]
  },
  {
   "cell_type": "code",
   "execution_count": null,
   "metadata": {},
   "outputs": [],
   "source": [
    "SENSOR"
   ]
  },
  {
   "cell_type": "code",
   "execution_count": null,
   "metadata": {},
   "outputs": [],
   "source": [
    "SENSOR.ts_from_istsos(\n",
    "    service=istsos_url,\n",
    "    observed_property='air:rainfall',\n",
    "    procedure=procedure,\n",
    "    basic_auth=istsos_auth,\n",
    "#     aggregate_function='AVG',\n",
    "#     aggregate_interval='PT10M',\n",
    "    event_time=\"/\".join(SENSOR.data_availability),\n",
    "    delta=relativedelta.relativedelta(days=15)\n",
    ")\n",
    "print('-->DONE\\n')\n",
    "print(SENSOR)"
   ]
  },
  {
   "cell_type": "code",
   "execution_count": null,
   "metadata": {},
   "outputs": [],
   "source": [
    "SENSOR.save_to_csv('P_ISO.dat')"
   ]
  },
  {
   "cell_type": "code",
   "execution_count": null,
   "metadata": {},
   "outputs": [],
   "source": []
  }
 ],
 "metadata": {
  "kernelspec": {
   "display_name": "Python 3",
   "language": "python",
   "name": "python3"
  },
  "language_info": {
   "codemirror_mode": {
    "name": "ipython",
    "version": 3
   },
   "file_extension": ".py",
   "mimetype": "text/x-python",
   "name": "python",
   "nbconvert_exporter": "python",
   "pygments_lexer": "ipython3",
   "version": "3.6.8"
  }
 },
 "nbformat": 4,
 "nbformat_minor": 2
}
