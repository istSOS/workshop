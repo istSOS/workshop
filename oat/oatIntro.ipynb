{
 "cells": [
  {
   "cell_type": "markdown",
   "metadata": {},
   "source": [
    "# Observation Analysis Tool "
   ]
  },
  {
   "cell_type": "markdown",
   "metadata": {},
   "source": [
    "## __[Introduction to OAT: sensor data management system](../oat/oat_tutorial_v4.pdf)__ "
   ]
  },
  {
   "cell_type": "markdown",
   "metadata": {},
   "source": [
    "## Handsout\n",
    "\n",
    "Let's install a module to handle datetime in ISO format<br>\n",
    "(the *!* specify to execute the command in a shell/prompt)"
   ]
  },
  {
   "cell_type": "code",
   "execution_count": 1,
   "metadata": {},
   "outputs": [
    {
     "name": "stdout",
     "output_type": "stream",
     "text": [
      "Requirement already satisfied: isodate in c:\\users\\utente\\anaconda3\\lib\\site-packages (0.6.0)\n",
      "Requirement already satisfied: six in c:\\users\\utente\\anaconda3\\lib\\site-packages (from isodate) (1.11.0)\n"
     ]
    },
    {
     "name": "stderr",
     "output_type": "stream",
     "text": [
      "distributed 1.21.8 requires msgpack, which is not installed.\n",
      "You are using pip version 10.0.1, however version 18.0 is available.\n",
      "You should consider upgrading via the 'python -m pip install --upgrade pip' command.\n"
     ]
    }
   ],
   "source": [
    "!pip install isodate"
   ]
  },
  {
   "cell_type": "code",
   "execution_count": 2,
   "metadata": {},
   "outputs": [],
   "source": [
    "from oatlib import sensor, method"
   ]
  },
  {
   "cell_type": "markdown",
   "metadata": {},
   "source": [
    "## Create a sensor with metadata"
   ]
  },
  {
   "cell_type": "markdown",
   "metadata": {},
   "source": [
    "Create a new ''sensor'' object passing the followingarguments:\n",
    "\n",
    "Args:\n",
    "* **name (str)**: the name of the sensor (maximum length is 10 characters)\n",
    "* **prop(str)**: the observed property\n",
    "* **unit(str)**: the unit of measure of the observed property\n",
    "* **lat(float)**: the latitude of the station\n",
    "* **lon(float)**: the longitude of the station\n",
    "* **alt(float)**: the altitude of the station\n",
    "* **tz(int)**: the time zone\n",
    "* **desc(str)**: the description of the time serie\n",
    "* ts(obj): a pandas timeseries object with (time, value) columns et (event time) as time-index and ov (observed values) as value columns\n",
    "* data_availability(list): time period of data availability (sensor historical records)\n",
    "* statflag(str): statistical flags to indicate the quality value of the series\n",
    "* use(bool): wheter to make the current sensor available or not for further elaborations\n",
    "* topscreen(float): top level of piezometer screen\n",
    "* bottomscreen(float): bottom level of piezometer screen"
   ]
  },
  {
   "cell_type": "code",
   "execution_count": 3,
   "metadata": {},
   "outputs": [],
   "source": [
    "sen = sensor.Sensor(\n",
    "    name = 'Q_VED',\n",
    "    prop = 'discharge',\n",
    "    unit = 'm3/s',\n",
    "    lat = 45.123,\n",
    "    lon = 23.444,\n",
    "    alt = 231.22,\n",
    "    tz = 1,\n",
    "    desc = 'river gauge bla bla bla',\n",
    ")"
   ]
  },
  {
   "cell_type": "code",
   "execution_count": 4,
   "metadata": {},
   "outputs": [
    {
     "name": "stdout",
     "output_type": "stream",
     "text": [
      "name: Q_VED\n",
      "desc: river gauge bla bla bla\n",
      "lat: 45.123\n",
      "lon: 23.444\n",
      "alt: 231.22\n",
      "tz: 1\n",
      "unit: b'm3/s'\n",
      "prop: discharge\n",
      "freq: None\n",
      "statflag: None\n",
      "use: True\n",
      "data_availability: [None, None]\n",
      "ts: None\n",
      "\n"
     ]
    }
   ],
   "source": [
    "print(sen)"
   ]
  },
  {
   "cell_type": "markdown",
   "metadata": {},
   "source": [
    "## Let's upload some data....\n",
    "let look at the data in the file xxxx"
   ]
  },
  {
   "cell_type": "code",
   "execution_count": 5,
   "metadata": {},
   "outputs": [
    {
     "name": "stdout",
     "output_type": "stream",
     "text": [
      "more: bad usage\n",
      "Try 'more --help' for more information.\n"
     ]
    }
   ],
   "source": [
    "!more "
   ]
  },
  {
   "cell_type": "code",
   "execution_count": null,
   "metadata": {},
   "outputs": [],
   "source": []
  }
 ],
 "metadata": {
  "kernelspec": {
   "display_name": "Python 3",
   "language": "python",
   "name": "python3"
  },
  "language_info": {
   "codemirror_mode": {
    "name": "ipython",
    "version": 3
   },
   "file_extension": ".py",
   "mimetype": "text/x-python",
   "name": "python",
   "nbconvert_exporter": "python",
   "pygments_lexer": "ipython3",
   "version": "3.6.8"
  }
 },
 "nbformat": 4,
 "nbformat_minor": 4
}
