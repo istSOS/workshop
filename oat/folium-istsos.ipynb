{
 "cells": [
  {
   "cell_type": "code",
   "execution_count": 2,
   "metadata": {},
   "outputs": [
    {
     "name": "stdout",
     "output_type": "stream",
     "text": [
      "Requirement already satisfied: geojsonio in /home/maxi/Documents/2019/didattica/PisaSummerSchool/OBS4RCH/venv/lib/python3.6/site-packages (0.0.3)\n",
      "Requirement already satisfied: six in /home/maxi/Documents/2019/didattica/PisaSummerSchool/OBS4RCH/venv/lib/python3.6/site-packages (from geojsonio) (1.12.0)\n",
      "Requirement already satisfied: github3.py in /home/maxi/Documents/2019/didattica/PisaSummerSchool/OBS4RCH/venv/lib/python3.6/site-packages (from geojsonio) (1.3.0)\n",
      "Requirement already satisfied: python-dateutil>=2.6.0 in /home/maxi/Documents/2019/didattica/PisaSummerSchool/OBS4RCH/venv/lib/python3.6/site-packages (from github3.py->geojsonio) (2.8.0)\n",
      "Requirement already satisfied: requests>=2.18 in /home/maxi/Documents/2019/didattica/PisaSummerSchool/OBS4RCH/venv/lib/python3.6/site-packages (from github3.py->geojsonio) (2.22.0)\n",
      "Requirement already satisfied: jwcrypto>=0.5.0 in /home/maxi/Documents/2019/didattica/PisaSummerSchool/OBS4RCH/venv/lib/python3.6/site-packages (from github3.py->geojsonio) (0.6.0)\n",
      "Requirement already satisfied: uritemplate>=3.0.0 in /home/maxi/Documents/2019/didattica/PisaSummerSchool/OBS4RCH/venv/lib/python3.6/site-packages (from github3.py->geojsonio) (3.0.0)\n",
      "Requirement already satisfied: certifi>=2017.4.17 in /home/maxi/Documents/2019/didattica/PisaSummerSchool/OBS4RCH/venv/lib/python3.6/site-packages (from requests>=2.18->github3.py->geojsonio) (2019.6.16)\n",
      "Requirement already satisfied: urllib3!=1.25.0,!=1.25.1,<1.26,>=1.21.1 in /home/maxi/Documents/2019/didattica/PisaSummerSchool/OBS4RCH/venv/lib/python3.6/site-packages (from requests>=2.18->github3.py->geojsonio) (1.25.3)\n",
      "Requirement already satisfied: chardet<3.1.0,>=3.0.2 in /home/maxi/Documents/2019/didattica/PisaSummerSchool/OBS4RCH/venv/lib/python3.6/site-packages (from requests>=2.18->github3.py->geojsonio) (3.0.4)\n",
      "Requirement already satisfied: idna<2.9,>=2.5 in /home/maxi/Documents/2019/didattica/PisaSummerSchool/OBS4RCH/venv/lib/python3.6/site-packages (from requests>=2.18->github3.py->geojsonio) (2.8)\n",
      "Requirement already satisfied: cryptography>=1.5 in /home/maxi/Documents/2019/didattica/PisaSummerSchool/OBS4RCH/venv/lib/python3.6/site-packages (from jwcrypto>=0.5.0->github3.py->geojsonio) (2.7)\n",
      "Requirement already satisfied: cffi!=1.11.3,>=1.8 in /home/maxi/Documents/2019/didattica/PisaSummerSchool/OBS4RCH/venv/lib/python3.6/site-packages (from cryptography>=1.5->jwcrypto>=0.5.0->github3.py->geojsonio) (1.12.3)\n",
      "Requirement already satisfied: asn1crypto>=0.21.0 in /home/maxi/Documents/2019/didattica/PisaSummerSchool/OBS4RCH/venv/lib/python3.6/site-packages (from cryptography>=1.5->jwcrypto>=0.5.0->github3.py->geojsonio) (0.24.0)\n",
      "Requirement already satisfied: pycparser in /home/maxi/Documents/2019/didattica/PisaSummerSchool/OBS4RCH/venv/lib/python3.6/site-packages (from cffi!=1.11.3,>=1.8->cryptography>=1.5->jwcrypto>=0.5.0->github3.py->geojsonio) (2.19)\n"
     ]
    }
   ],
   "source": [
    "%load_ext autoreload\n",
    "%autoreload 2\n",
    "%matplotlib inline\n",
    "!pip install geojsonio"
   ]
  },
  {
   "cell_type": "code",
   "execution_count": 3,
   "metadata": {},
   "outputs": [],
   "source": [
    "import geojsonio\n",
    "import requests\n",
    "import json"
   ]
  },
  {
   "cell_type": "code",
   "execution_count": 4,
   "metadata": {},
   "outputs": [],
   "source": [
    "server = 'http://istsos.org/istsos'\n",
    "service = 'demo'\n",
    "user = None\n",
    "pwd = None"
   ]
  },
  {
   "cell_type": "code",
   "execution_count": 18,
   "metadata": {},
   "outputs": [],
   "source": [
    "uri = f\"{server}/wa/istsos/services/{service}/procedures/operations/geojson\""
   ]
  },
  {
   "cell_type": "code",
   "execution_count": 22,
   "metadata": {},
   "outputs": [],
   "source": [
    "try:\n",
    "    if user and pwd:\n",
    "        r = requests.get(uri, auth=(self.user, self.pwd))\n",
    "    else:\n",
    "        r = requests.get(uri)\n",
    "    if r.status_code == 200:\n",
    "        r_json = json.loads(r.text)\n",
    "        #procedures = r_json['data']\n",
    "    else:\n",
    "        print(r.status_code)\n",
    "except Exception as e:\n",
    "    raise e"
   ]
  },
  {
   "cell_type": "code",
   "execution_count": 25,
   "metadata": {},
   "outputs": [],
   "source": [
    "gj = r.json()"
   ]
  },
  {
   "cell_type": "code",
   "execution_count": 26,
   "metadata": {},
   "outputs": [
    {
     "ename": "ValueError",
     "evalue": "Unknown type at index 0",
     "output_type": "error",
     "traceback": [
      "\u001b[0;31m---------------------------------------------------------------------------\u001b[0m",
      "\u001b[0;31mValueError\u001b[0m                                Traceback (most recent call last)",
      "\u001b[0;32m<ipython-input-26-d97b36b30105>\u001b[0m in \u001b[0;36m<module>\u001b[0;34m\u001b[0m\n\u001b[0;32m----> 1\u001b[0;31m \u001b[0mgeojsonio\u001b[0m\u001b[0;34m.\u001b[0m\u001b[0mdisplay\u001b[0m\u001b[0;34m(\u001b[0m\u001b[0mgj\u001b[0m\u001b[0;34m)\u001b[0m\u001b[0;34m\u001b[0m\u001b[0;34m\u001b[0m\u001b[0m\n\u001b[0m",
      "\u001b[0;32m~/Documents/2019/didattica/PisaSummerSchool/OBS4RCH/venv/lib/python3.6/site-packages/geojsonio/geojsonio.py\u001b[0m in \u001b[0;36mdisplay\u001b[0;34m(contents, domain, force_gist)\u001b[0m\n\u001b[1;32m     34\u001b[0m \u001b[0;34m\u001b[0m\u001b[0m\n\u001b[1;32m     35\u001b[0m     \"\"\"\n\u001b[0;32m---> 36\u001b[0;31m     \u001b[0murl\u001b[0m \u001b[0;34m=\u001b[0m \u001b[0mmake_url\u001b[0m\u001b[0;34m(\u001b[0m\u001b[0mcontents\u001b[0m\u001b[0;34m,\u001b[0m \u001b[0mdomain\u001b[0m\u001b[0;34m,\u001b[0m \u001b[0mforce_gist\u001b[0m\u001b[0;34m)\u001b[0m\u001b[0;34m\u001b[0m\u001b[0;34m\u001b[0m\u001b[0m\n\u001b[0m\u001b[1;32m     37\u001b[0m     \u001b[0mwebbrowser\u001b[0m\u001b[0;34m.\u001b[0m\u001b[0mopen\u001b[0m\u001b[0;34m(\u001b[0m\u001b[0murl\u001b[0m\u001b[0;34m)\u001b[0m\u001b[0;34m\u001b[0m\u001b[0;34m\u001b[0m\u001b[0m\n\u001b[1;32m     38\u001b[0m     \u001b[0;32mreturn\u001b[0m \u001b[0murl\u001b[0m\u001b[0;34m\u001b[0m\u001b[0;34m\u001b[0m\u001b[0m\n",
      "\u001b[0;32m~/Documents/2019/didattica/PisaSummerSchool/OBS4RCH/venv/lib/python3.6/site-packages/geojsonio/geojsonio.py\u001b[0m in \u001b[0;36mmake_url\u001b[0;34m(contents, domain, force_gist, size_for_gist)\u001b[0m\n\u001b[1;32m     87\u001b[0m \u001b[0;34m\u001b[0m\u001b[0m\n\u001b[1;32m     88\u001b[0m     \"\"\"\n\u001b[0;32m---> 89\u001b[0;31m     \u001b[0mcontents\u001b[0m \u001b[0;34m=\u001b[0m \u001b[0mmake_geojson\u001b[0m\u001b[0;34m(\u001b[0m\u001b[0mcontents\u001b[0m\u001b[0;34m)\u001b[0m\u001b[0;34m\u001b[0m\u001b[0;34m\u001b[0m\u001b[0m\n\u001b[0m\u001b[1;32m     90\u001b[0m     \u001b[0;32mif\u001b[0m \u001b[0mlen\u001b[0m\u001b[0;34m(\u001b[0m\u001b[0mcontents\u001b[0m\u001b[0;34m)\u001b[0m \u001b[0;34m<=\u001b[0m \u001b[0msize_for_gist\u001b[0m \u001b[0;32mand\u001b[0m \u001b[0;32mnot\u001b[0m \u001b[0mforce_gist\u001b[0m\u001b[0;34m:\u001b[0m\u001b[0;34m\u001b[0m\u001b[0;34m\u001b[0m\u001b[0m\n\u001b[1;32m     91\u001b[0m         \u001b[0murl\u001b[0m \u001b[0;34m=\u001b[0m \u001b[0mdata_url\u001b[0m\u001b[0;34m(\u001b[0m\u001b[0mcontents\u001b[0m\u001b[0;34m,\u001b[0m \u001b[0mdomain\u001b[0m\u001b[0;34m)\u001b[0m\u001b[0;34m\u001b[0m\u001b[0;34m\u001b[0m\u001b[0m\n",
      "\u001b[0;32m~/Documents/2019/didattica/PisaSummerSchool/OBS4RCH/venv/lib/python3.6/site-packages/geojsonio/geojsonio.py\u001b[0m in \u001b[0;36mmake_geojson\u001b[0;34m(contents)\u001b[0m\n\u001b[1;32m    122\u001b[0m         \u001b[0;32mfor\u001b[0m \u001b[0mi\u001b[0m\u001b[0;34m,\u001b[0m \u001b[0mf\u001b[0m \u001b[0;32min\u001b[0m \u001b[0menumerate\u001b[0m\u001b[0;34m(\u001b[0m\u001b[0mfeature_iter\u001b[0m\u001b[0;34m)\u001b[0m\u001b[0;34m:\u001b[0m\u001b[0;34m\u001b[0m\u001b[0;34m\u001b[0m\u001b[0m\n\u001b[1;32m    123\u001b[0m             \u001b[0;32mif\u001b[0m \u001b[0;32mnot\u001b[0m \u001b[0mhasattr\u001b[0m\u001b[0;34m(\u001b[0m\u001b[0mf\u001b[0m\u001b[0;34m,\u001b[0m \u001b[0;34m'__geo_interface__'\u001b[0m\u001b[0;34m)\u001b[0m\u001b[0;34m:\u001b[0m\u001b[0;34m\u001b[0m\u001b[0;34m\u001b[0m\u001b[0m\n\u001b[0;32m--> 124\u001b[0;31m                 \u001b[0;32mraise\u001b[0m \u001b[0mValueError\u001b[0m\u001b[0;34m(\u001b[0m\u001b[0;34m'Unknown type at index {0}'\u001b[0m\u001b[0;34m.\u001b[0m\u001b[0mformat\u001b[0m\u001b[0;34m(\u001b[0m\u001b[0mi\u001b[0m\u001b[0;34m)\u001b[0m\u001b[0;34m)\u001b[0m\u001b[0;34m\u001b[0m\u001b[0;34m\u001b[0m\u001b[0m\n\u001b[0m\u001b[1;32m    125\u001b[0m             \u001b[0mfeatures\u001b[0m\u001b[0;34m.\u001b[0m\u001b[0mappend\u001b[0m\u001b[0;34m(\u001b[0m\u001b[0m_geo_to_feature\u001b[0m\u001b[0;34m(\u001b[0m\u001b[0mf\u001b[0m\u001b[0;34m)\u001b[0m\u001b[0;34m)\u001b[0m\u001b[0;34m\u001b[0m\u001b[0;34m\u001b[0m\u001b[0m\n\u001b[1;32m    126\u001b[0m \u001b[0;34m\u001b[0m\u001b[0m\n",
      "\u001b[0;31mValueError\u001b[0m: Unknown type at index 0"
     ]
    }
   ],
   "source": [
    "geojsonio.display(gj)"
   ]
  },
  {
   "cell_type": "code",
   "execution_count": 16,
   "metadata": {},
   "outputs": [],
   "source": [
    "content = \"\"\"{\n",
    "    \"type\": \"Point\",\n",
    "    \"coordinates\": [\n",
    "        -73.9617,\n",
    "        40.8067\n",
    "        ]\n",
    "}\"\"\""
   ]
  },
  {
   "cell_type": "code",
   "execution_count": 17,
   "metadata": {},
   "outputs": [
    {
     "data": {
      "text/plain": [
       "'http://geojson.io/#data=data:application/json,%7B%0A%20%20%20%20%22type%22%3A%20%22Point%22%2C%0A%20%20%20%20%22coordinates%22%3A%20%5B%0A%20%20%20%20%20%20%20%20-73.9617%2C%0A%20%20%20%20%20%20%20%2040.8067%0A%20%20%20%20%20%20%20%20%5D%0A%7D'"
      ]
     },
     "execution_count": 17,
     "metadata": {},
     "output_type": "execute_result"
    }
   ],
   "source": [
    "geojsonio.display(content)"
   ]
  },
  {
   "cell_type": "code",
   "execution_count": null,
   "metadata": {},
   "outputs": [],
   "source": []
  }
 ],
 "metadata": {
  "kernelspec": {
   "display_name": "Python 3",
   "language": "python",
   "name": "python3"
  },
  "language_info": {
   "codemirror_mode": {
    "name": "ipython",
    "version": 3
   },
   "file_extension": ".py",
   "mimetype": "text/x-python",
   "name": "python",
   "nbconvert_exporter": "python",
   "pygments_lexer": "ipython3",
   "version": "3.6.8"
  }
 },
 "nbformat": 4,
 "nbformat_minor": 4
}
