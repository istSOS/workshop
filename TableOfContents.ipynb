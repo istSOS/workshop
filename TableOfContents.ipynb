{
 "cells": [
  {
   "cell_type": "markdown",
   "metadata": {},
   "source": [
    "\n",
    "# istSOS 3.4 - WORKSHOP\n",
    "\n",
    "__[Massimiliano Cannata*](http://www.linkedin.com/in/jvdkwast)__,\n",
    "__[Milan Antonovic*](https://www.linkedin.com/in/mantonovic/)__,\n",
    "__[Daniele Strigaro*](http://www.supsi.ch/go/scheda-collaboratore?cnet=f36f542060605c10c02ba8fd241aed6c89e0a7e012914b0e&lingua=ita)__<br>\n",
    "\n",
    "__[(*)SUPSI](http://www.supsi.ch/)__<br>\n",
    "__[University of Applied Sciences and Arts of Southern Switzerland](http://www.supsi.ch/)__<br>\n",
    "__[Department for Environment Constructions and Design](http://www.supsi.ch/dacd)__<br>\n",
    "__[Institute of Earth Sciences](http://www.supsi.ch/ist_en.html)__<br>\n",
    "Twitter: @maxicannata\n",
    "  \n",
    "## Table Of Contents\n",
    "### 0. Open Science\n",
    "  #### 0.1 __[Introduction to Open Science and 4onse](OpenScience.pdf)__\n",
    "\n",
    "### 1. Introduction to istSOS\n",
    "  #### 1.1 __[istSOS: a standard sensor data management system](istSOS_overview.pdf)__\n",
    "  #### 1.2 __[istSOS: software features](istSOS-EGU.pdf)__ \n",
    "  #### 1.3 __[OAT library](./oat/oat_tutorial_v4.pdf)__\n",
    "\n",
    "### 2. istSOS practice\n",
    "  #### 2.1 __[Familiarize with istSOS](istsos/istsosTutorial.ipynb)__\n",
    "  #### 2.2 __[Homework: register sensor and upload data](istsos/istsosEx1.ipynb)__\n",
    "\n",
    "### 3. Open Monitoring Systems\n",
    "  #### 3.1 __[4onse project](http://www.4onse.org)__\n",
    "  #### 3.2 __[4onse weather station](http://4onse.org/tutorial/)__\n",
    "  #### 3.3 __[Manipulating real time sensor data](arduino/loading_data.ipynb)__\n",
    "\n",
    "### 4. Time Series Analysis with Python, OAT and istSOS  \n",
    "  #### 4.1 __[How to work with istSOS](./oat/example_1.ipynb)__\n",
    "  #### 4.2 __[River discharge data analysis](./oat/example_2.ipynb)__\n",
    "  #### 4.3 __[Sensor station mapping](./oat/example_folium.ipynb)__\n",
    "  #### 4.4 __[Climate Change Machine Learning analysis](./oat/ClimateChangesDIscharges.ipynb)__\n",
    "  #### 4.2 __[Rainfall run-off modelling with SmartPy](./oat/example_smartpy.ipynb)__\n",
    "       \n",
    "<br>\n",
    "<br>\n",
    "\n",
    "\n",
    "*This work is licensed under the Creative Commons Attribution 2.5 License.<br>\n",
    "To view a copy of this license, visit https://creativecommons.org/licenses/by/2.5/ or send a letter to Creative Commons,<br>\n",
    "444 Castro Street, Suite 900, Mountain View, California, 94041, USA.*"
   ]
  },
  {
   "cell_type": "code",
   "execution_count": null,
   "metadata": {},
   "outputs": [],
   "source": []
  }
 ],
 "metadata": {
  "kernelspec": {
   "display_name": "Python 3",
   "language": "python",
   "name": "python3"
  },
  "language_info": {
   "codemirror_mode": {
    "name": "ipython",
    "version": 3
   },
   "file_extension": ".py",
   "mimetype": "text/x-python",
   "name": "python",
   "nbconvert_exporter": "python",
   "pygments_lexer": "ipython3",
   "version": "3.8.5"
  }
 },
 "nbformat": 4,
 "nbformat_minor": 4
}
